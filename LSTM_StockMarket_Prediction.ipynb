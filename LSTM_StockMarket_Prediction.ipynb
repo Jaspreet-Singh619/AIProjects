{
  "nbformat": 4,
  "nbformat_minor": 0,
  "metadata": {
    "colab": {
      "provenance": [],
      "authorship_tag": "ABX9TyPYOSaUMbkiGOecoV63UI5a",
      "include_colab_link": true
    },
    "kernelspec": {
      "name": "python3",
      "display_name": "Python 3"
    },
    "language_info": {
      "name": "python"
    }
  },
  "cells": [
    {
      "cell_type": "markdown",
      "metadata": {
        "id": "view-in-github",
        "colab_type": "text"
      },
      "source": [
        "<a href=\"https://colab.research.google.com/github/Jaspreet-Singh619/AIProjects/blob/main/LSTM_StockMarket_Prediction.ipynb\" target=\"_parent\"><img src=\"https://colab.research.google.com/assets/colab-badge.svg\" alt=\"Open In Colab\"/></a>"
      ]
    },
    {
      "cell_type": "code",
      "execution_count": 36,
      "metadata": {
        "id": "sDArq5wipVQ7"
      },
      "outputs": [],
      "source": [
        "import pandas_datareader as pdr\n",
        "import matplotlib.pyplot as plt\n",
        "import numpy as np\n",
        "import pandas as pd"
      ]
    },
    {
      "cell_type": "code",
      "source": [
        "!pip install yfinance\n"
      ],
      "metadata": {
        "colab": {
          "base_uri": "https://localhost:8080/"
        },
        "id": "MupupQU7qVn8",
        "outputId": "570b2af9-0912-41e5-e00a-59744c037b78"
      },
      "execution_count": 19,
      "outputs": [
        {
          "output_type": "stream",
          "name": "stdout",
          "text": [
            "Requirement already satisfied: yfinance in /usr/local/lib/python3.10/dist-packages (0.2.43)\n",
            "Requirement already satisfied: pandas>=1.3.0 in /usr/local/lib/python3.10/dist-packages (from yfinance) (2.1.4)\n",
            "Requirement already satisfied: numpy>=1.16.5 in /usr/local/lib/python3.10/dist-packages (from yfinance) (1.26.4)\n",
            "Requirement already satisfied: requests>=2.31 in /usr/local/lib/python3.10/dist-packages (from yfinance) (2.32.3)\n",
            "Requirement already satisfied: multitasking>=0.0.7 in /usr/local/lib/python3.10/dist-packages (from yfinance) (0.0.11)\n",
            "Requirement already satisfied: lxml>=4.9.1 in /usr/local/lib/python3.10/dist-packages (from yfinance) (4.9.4)\n",
            "Requirement already satisfied: platformdirs>=2.0.0 in /usr/local/lib/python3.10/dist-packages (from yfinance) (4.2.2)\n",
            "Requirement already satisfied: pytz>=2022.5 in /usr/local/lib/python3.10/dist-packages (from yfinance) (2024.1)\n",
            "Requirement already satisfied: frozendict>=2.3.4 in /usr/local/lib/python3.10/dist-packages (from yfinance) (2.4.4)\n",
            "Requirement already satisfied: peewee>=3.16.2 in /usr/local/lib/python3.10/dist-packages (from yfinance) (3.17.6)\n",
            "Requirement already satisfied: beautifulsoup4>=4.11.1 in /usr/local/lib/python3.10/dist-packages (from yfinance) (4.12.3)\n",
            "Requirement already satisfied: html5lib>=1.1 in /usr/local/lib/python3.10/dist-packages (from yfinance) (1.1)\n",
            "Requirement already satisfied: soupsieve>1.2 in /usr/local/lib/python3.10/dist-packages (from beautifulsoup4>=4.11.1->yfinance) (2.6)\n",
            "Requirement already satisfied: six>=1.9 in /usr/local/lib/python3.10/dist-packages (from html5lib>=1.1->yfinance) (1.16.0)\n",
            "Requirement already satisfied: webencodings in /usr/local/lib/python3.10/dist-packages (from html5lib>=1.1->yfinance) (0.5.1)\n",
            "Requirement already satisfied: python-dateutil>=2.8.2 in /usr/local/lib/python3.10/dist-packages (from pandas>=1.3.0->yfinance) (2.8.2)\n",
            "Requirement already satisfied: tzdata>=2022.1 in /usr/local/lib/python3.10/dist-packages (from pandas>=1.3.0->yfinance) (2024.1)\n",
            "Requirement already satisfied: charset-normalizer<4,>=2 in /usr/local/lib/python3.10/dist-packages (from requests>=2.31->yfinance) (3.3.2)\n",
            "Requirement already satisfied: idna<4,>=2.5 in /usr/local/lib/python3.10/dist-packages (from requests>=2.31->yfinance) (3.8)\n",
            "Requirement already satisfied: urllib3<3,>=1.21.1 in /usr/local/lib/python3.10/dist-packages (from requests>=2.31->yfinance) (2.0.7)\n",
            "Requirement already satisfied: certifi>=2017.4.17 in /usr/local/lib/python3.10/dist-packages (from requests>=2.31->yfinance) (2024.7.4)\n"
          ]
        }
      ]
    },
    {
      "cell_type": "code",
      "source": [
        "import yfinance as yf"
      ],
      "metadata": {
        "id": "vw0wTcQN4LcV"
      },
      "execution_count": 22,
      "outputs": []
    },
    {
      "cell_type": "code",
      "source": [
        "data = yf.download(\"AAPL\", start=\"2015-01-01\", end=\"2022-01-22\")"
      ],
      "metadata": {
        "colab": {
          "base_uri": "https://localhost:8080/"
        },
        "id": "R9v2NxyZ4TIc",
        "outputId": "f36fd107-11f1-4755-fdc7-7d88452c8c69"
      },
      "execution_count": 23,
      "outputs": [
        {
          "output_type": "stream",
          "name": "stderr",
          "text": [
            "\r[*********************100%***********************]  1 of 1 completed\n"
          ]
        }
      ]
    },
    {
      "cell_type": "code",
      "source": [
        "print(type(data))"
      ],
      "metadata": {
        "colab": {
          "base_uri": "https://localhost:8080/"
        },
        "id": "mp8oMeYd4sCX",
        "outputId": "1ce5e901-d624-4fee-a1aa-96c900991749"
      },
      "execution_count": 24,
      "outputs": [
        {
          "output_type": "stream",
          "name": "stdout",
          "text": [
            "<class 'pandas.core.frame.DataFrame'>\n"
          ]
        }
      ]
    },
    {
      "cell_type": "code",
      "source": [
        "data.head()"
      ],
      "metadata": {
        "colab": {
          "base_uri": "https://localhost:8080/",
          "height": 238
        },
        "id": "KT5nRqXB4ubA",
        "outputId": "3932de5f-97c2-4b13-a3f9-b5419f7a38db"
      },
      "execution_count": 25,
      "outputs": [
        {
          "output_type": "execute_result",
          "data": {
            "text/plain": [
              "                 Open       High        Low      Close  Adj Close     Volume\n",
              "Date                                                                        \n",
              "2015-01-02  27.847500  27.860001  26.837500  27.332500  24.373955  212818400\n",
              "2015-01-05  27.072500  27.162500  26.352501  26.562500  23.687305  257142000\n",
              "2015-01-06  26.635000  26.857500  26.157499  26.565001  23.689531  263188400\n",
              "2015-01-07  26.799999  27.049999  26.674999  26.937500  24.021717  160423600\n",
              "2015-01-08  27.307501  28.037500  27.174999  27.972500  24.944685  237458000"
            ],
            "text/html": [
              "\n",
              "  <div id=\"df-6d109de8-f213-4c33-822e-2d43a1d410d9\" class=\"colab-df-container\">\n",
              "    <div>\n",
              "<style scoped>\n",
              "    .dataframe tbody tr th:only-of-type {\n",
              "        vertical-align: middle;\n",
              "    }\n",
              "\n",
              "    .dataframe tbody tr th {\n",
              "        vertical-align: top;\n",
              "    }\n",
              "\n",
              "    .dataframe thead th {\n",
              "        text-align: right;\n",
              "    }\n",
              "</style>\n",
              "<table border=\"1\" class=\"dataframe\">\n",
              "  <thead>\n",
              "    <tr style=\"text-align: right;\">\n",
              "      <th></th>\n",
              "      <th>Open</th>\n",
              "      <th>High</th>\n",
              "      <th>Low</th>\n",
              "      <th>Close</th>\n",
              "      <th>Adj Close</th>\n",
              "      <th>Volume</th>\n",
              "    </tr>\n",
              "    <tr>\n",
              "      <th>Date</th>\n",
              "      <th></th>\n",
              "      <th></th>\n",
              "      <th></th>\n",
              "      <th></th>\n",
              "      <th></th>\n",
              "      <th></th>\n",
              "    </tr>\n",
              "  </thead>\n",
              "  <tbody>\n",
              "    <tr>\n",
              "      <th>2015-01-02</th>\n",
              "      <td>27.847500</td>\n",
              "      <td>27.860001</td>\n",
              "      <td>26.837500</td>\n",
              "      <td>27.332500</td>\n",
              "      <td>24.373955</td>\n",
              "      <td>212818400</td>\n",
              "    </tr>\n",
              "    <tr>\n",
              "      <th>2015-01-05</th>\n",
              "      <td>27.072500</td>\n",
              "      <td>27.162500</td>\n",
              "      <td>26.352501</td>\n",
              "      <td>26.562500</td>\n",
              "      <td>23.687305</td>\n",
              "      <td>257142000</td>\n",
              "    </tr>\n",
              "    <tr>\n",
              "      <th>2015-01-06</th>\n",
              "      <td>26.635000</td>\n",
              "      <td>26.857500</td>\n",
              "      <td>26.157499</td>\n",
              "      <td>26.565001</td>\n",
              "      <td>23.689531</td>\n",
              "      <td>263188400</td>\n",
              "    </tr>\n",
              "    <tr>\n",
              "      <th>2015-01-07</th>\n",
              "      <td>26.799999</td>\n",
              "      <td>27.049999</td>\n",
              "      <td>26.674999</td>\n",
              "      <td>26.937500</td>\n",
              "      <td>24.021717</td>\n",
              "      <td>160423600</td>\n",
              "    </tr>\n",
              "    <tr>\n",
              "      <th>2015-01-08</th>\n",
              "      <td>27.307501</td>\n",
              "      <td>28.037500</td>\n",
              "      <td>27.174999</td>\n",
              "      <td>27.972500</td>\n",
              "      <td>24.944685</td>\n",
              "      <td>237458000</td>\n",
              "    </tr>\n",
              "  </tbody>\n",
              "</table>\n",
              "</div>\n",
              "    <div class=\"colab-df-buttons\">\n",
              "\n",
              "  <div class=\"colab-df-container\">\n",
              "    <button class=\"colab-df-convert\" onclick=\"convertToInteractive('df-6d109de8-f213-4c33-822e-2d43a1d410d9')\"\n",
              "            title=\"Convert this dataframe to an interactive table.\"\n",
              "            style=\"display:none;\">\n",
              "\n",
              "  <svg xmlns=\"http://www.w3.org/2000/svg\" height=\"24px\" viewBox=\"0 -960 960 960\">\n",
              "    <path d=\"M120-120v-720h720v720H120Zm60-500h600v-160H180v160Zm220 220h160v-160H400v160Zm0 220h160v-160H400v160ZM180-400h160v-160H180v160Zm440 0h160v-160H620v160ZM180-180h160v-160H180v160Zm440 0h160v-160H620v160Z\"/>\n",
              "  </svg>\n",
              "    </button>\n",
              "\n",
              "  <style>\n",
              "    .colab-df-container {\n",
              "      display:flex;\n",
              "      gap: 12px;\n",
              "    }\n",
              "\n",
              "    .colab-df-convert {\n",
              "      background-color: #E8F0FE;\n",
              "      border: none;\n",
              "      border-radius: 50%;\n",
              "      cursor: pointer;\n",
              "      display: none;\n",
              "      fill: #1967D2;\n",
              "      height: 32px;\n",
              "      padding: 0 0 0 0;\n",
              "      width: 32px;\n",
              "    }\n",
              "\n",
              "    .colab-df-convert:hover {\n",
              "      background-color: #E2EBFA;\n",
              "      box-shadow: 0px 1px 2px rgba(60, 64, 67, 0.3), 0px 1px 3px 1px rgba(60, 64, 67, 0.15);\n",
              "      fill: #174EA6;\n",
              "    }\n",
              "\n",
              "    .colab-df-buttons div {\n",
              "      margin-bottom: 4px;\n",
              "    }\n",
              "\n",
              "    [theme=dark] .colab-df-convert {\n",
              "      background-color: #3B4455;\n",
              "      fill: #D2E3FC;\n",
              "    }\n",
              "\n",
              "    [theme=dark] .colab-df-convert:hover {\n",
              "      background-color: #434B5C;\n",
              "      box-shadow: 0px 1px 3px 1px rgba(0, 0, 0, 0.15);\n",
              "      filter: drop-shadow(0px 1px 2px rgba(0, 0, 0, 0.3));\n",
              "      fill: #FFFFFF;\n",
              "    }\n",
              "  </style>\n",
              "\n",
              "    <script>\n",
              "      const buttonEl =\n",
              "        document.querySelector('#df-6d109de8-f213-4c33-822e-2d43a1d410d9 button.colab-df-convert');\n",
              "      buttonEl.style.display =\n",
              "        google.colab.kernel.accessAllowed ? 'block' : 'none';\n",
              "\n",
              "      async function convertToInteractive(key) {\n",
              "        const element = document.querySelector('#df-6d109de8-f213-4c33-822e-2d43a1d410d9');\n",
              "        const dataTable =\n",
              "          await google.colab.kernel.invokeFunction('convertToInteractive',\n",
              "                                                    [key], {});\n",
              "        if (!dataTable) return;\n",
              "\n",
              "        const docLinkHtml = 'Like what you see? Visit the ' +\n",
              "          '<a target=\"_blank\" href=https://colab.research.google.com/notebooks/data_table.ipynb>data table notebook</a>'\n",
              "          + ' to learn more about interactive tables.';\n",
              "        element.innerHTML = '';\n",
              "        dataTable['output_type'] = 'display_data';\n",
              "        await google.colab.output.renderOutput(dataTable, element);\n",
              "        const docLink = document.createElement('div');\n",
              "        docLink.innerHTML = docLinkHtml;\n",
              "        element.appendChild(docLink);\n",
              "      }\n",
              "    </script>\n",
              "  </div>\n",
              "\n",
              "\n",
              "<div id=\"df-931e713c-517a-4b6b-9a3b-24bd5787e41e\">\n",
              "  <button class=\"colab-df-quickchart\" onclick=\"quickchart('df-931e713c-517a-4b6b-9a3b-24bd5787e41e')\"\n",
              "            title=\"Suggest charts\"\n",
              "            style=\"display:none;\">\n",
              "\n",
              "<svg xmlns=\"http://www.w3.org/2000/svg\" height=\"24px\"viewBox=\"0 0 24 24\"\n",
              "     width=\"24px\">\n",
              "    <g>\n",
              "        <path d=\"M19 3H5c-1.1 0-2 .9-2 2v14c0 1.1.9 2 2 2h14c1.1 0 2-.9 2-2V5c0-1.1-.9-2-2-2zM9 17H7v-7h2v7zm4 0h-2V7h2v10zm4 0h-2v-4h2v4z\"/>\n",
              "    </g>\n",
              "</svg>\n",
              "  </button>\n",
              "\n",
              "<style>\n",
              "  .colab-df-quickchart {\n",
              "      --bg-color: #E8F0FE;\n",
              "      --fill-color: #1967D2;\n",
              "      --hover-bg-color: #E2EBFA;\n",
              "      --hover-fill-color: #174EA6;\n",
              "      --disabled-fill-color: #AAA;\n",
              "      --disabled-bg-color: #DDD;\n",
              "  }\n",
              "\n",
              "  [theme=dark] .colab-df-quickchart {\n",
              "      --bg-color: #3B4455;\n",
              "      --fill-color: #D2E3FC;\n",
              "      --hover-bg-color: #434B5C;\n",
              "      --hover-fill-color: #FFFFFF;\n",
              "      --disabled-bg-color: #3B4455;\n",
              "      --disabled-fill-color: #666;\n",
              "  }\n",
              "\n",
              "  .colab-df-quickchart {\n",
              "    background-color: var(--bg-color);\n",
              "    border: none;\n",
              "    border-radius: 50%;\n",
              "    cursor: pointer;\n",
              "    display: none;\n",
              "    fill: var(--fill-color);\n",
              "    height: 32px;\n",
              "    padding: 0;\n",
              "    width: 32px;\n",
              "  }\n",
              "\n",
              "  .colab-df-quickchart:hover {\n",
              "    background-color: var(--hover-bg-color);\n",
              "    box-shadow: 0 1px 2px rgba(60, 64, 67, 0.3), 0 1px 3px 1px rgba(60, 64, 67, 0.15);\n",
              "    fill: var(--button-hover-fill-color);\n",
              "  }\n",
              "\n",
              "  .colab-df-quickchart-complete:disabled,\n",
              "  .colab-df-quickchart-complete:disabled:hover {\n",
              "    background-color: var(--disabled-bg-color);\n",
              "    fill: var(--disabled-fill-color);\n",
              "    box-shadow: none;\n",
              "  }\n",
              "\n",
              "  .colab-df-spinner {\n",
              "    border: 2px solid var(--fill-color);\n",
              "    border-color: transparent;\n",
              "    border-bottom-color: var(--fill-color);\n",
              "    animation:\n",
              "      spin 1s steps(1) infinite;\n",
              "  }\n",
              "\n",
              "  @keyframes spin {\n",
              "    0% {\n",
              "      border-color: transparent;\n",
              "      border-bottom-color: var(--fill-color);\n",
              "      border-left-color: var(--fill-color);\n",
              "    }\n",
              "    20% {\n",
              "      border-color: transparent;\n",
              "      border-left-color: var(--fill-color);\n",
              "      border-top-color: var(--fill-color);\n",
              "    }\n",
              "    30% {\n",
              "      border-color: transparent;\n",
              "      border-left-color: var(--fill-color);\n",
              "      border-top-color: var(--fill-color);\n",
              "      border-right-color: var(--fill-color);\n",
              "    }\n",
              "    40% {\n",
              "      border-color: transparent;\n",
              "      border-right-color: var(--fill-color);\n",
              "      border-top-color: var(--fill-color);\n",
              "    }\n",
              "    60% {\n",
              "      border-color: transparent;\n",
              "      border-right-color: var(--fill-color);\n",
              "    }\n",
              "    80% {\n",
              "      border-color: transparent;\n",
              "      border-right-color: var(--fill-color);\n",
              "      border-bottom-color: var(--fill-color);\n",
              "    }\n",
              "    90% {\n",
              "      border-color: transparent;\n",
              "      border-bottom-color: var(--fill-color);\n",
              "    }\n",
              "  }\n",
              "</style>\n",
              "\n",
              "  <script>\n",
              "    async function quickchart(key) {\n",
              "      const quickchartButtonEl =\n",
              "        document.querySelector('#' + key + ' button');\n",
              "      quickchartButtonEl.disabled = true;  // To prevent multiple clicks.\n",
              "      quickchartButtonEl.classList.add('colab-df-spinner');\n",
              "      try {\n",
              "        const charts = await google.colab.kernel.invokeFunction(\n",
              "            'suggestCharts', [key], {});\n",
              "      } catch (error) {\n",
              "        console.error('Error during call to suggestCharts:', error);\n",
              "      }\n",
              "      quickchartButtonEl.classList.remove('colab-df-spinner');\n",
              "      quickchartButtonEl.classList.add('colab-df-quickchart-complete');\n",
              "    }\n",
              "    (() => {\n",
              "      let quickchartButtonEl =\n",
              "        document.querySelector('#df-931e713c-517a-4b6b-9a3b-24bd5787e41e button');\n",
              "      quickchartButtonEl.style.display =\n",
              "        google.colab.kernel.accessAllowed ? 'block' : 'none';\n",
              "    })();\n",
              "  </script>\n",
              "</div>\n",
              "\n",
              "    </div>\n",
              "  </div>\n"
            ],
            "application/vnd.google.colaboratory.intrinsic+json": {
              "type": "dataframe",
              "variable_name": "data",
              "summary": "{\n  \"name\": \"data\",\n  \"rows\": 1777,\n  \"fields\": [\n    {\n      \"column\": \"Date\",\n      \"properties\": {\n        \"dtype\": \"date\",\n        \"min\": \"2015-01-02 00:00:00\",\n        \"max\": \"2022-01-21 00:00:00\",\n        \"num_unique_values\": 1777,\n        \"samples\": [\n          \"2015-04-08 00:00:00\",\n          \"2018-09-27 00:00:00\",\n          \"2018-04-24 00:00:00\"\n        ],\n        \"semantic_type\": \"\",\n        \"description\": \"\"\n      }\n    },\n    {\n      \"column\": \"Open\",\n      \"properties\": {\n        \"dtype\": \"number\",\n        \"std\": 41.34618040037803,\n        \"min\": 22.5,\n        \"max\": 182.6300048828125,\n        \"num_unique_values\": 1692,\n        \"samples\": [\n          42.58000183105469,\n          148.66000366210938,\n          81.04750061035156\n        ],\n        \"semantic_type\": \"\",\n        \"description\": \"\"\n      }\n    },\n    {\n      \"column\": \"High\",\n      \"properties\": {\n        \"dtype\": \"number\",\n        \"std\": 41.84765008873096,\n        \"min\": 22.917499542236328,\n        \"max\": 182.94000244140625,\n        \"num_unique_values\": 1688,\n        \"samples\": [\n          68.42500305175781,\n          33.23500061035156,\n          30.672500610351562\n        ],\n        \"semantic_type\": \"\",\n        \"description\": \"\"\n      }\n    },\n    {\n      \"column\": \"Low\",\n      \"properties\": {\n        \"dtype\": \"number\",\n        \"std\": 40.85595744989639,\n        \"min\": 22.36750030517578,\n        \"max\": 179.1199951171875,\n        \"num_unique_values\": 1699,\n        \"samples\": [\n          39.459999084472656,\n          31.21500015258789,\n          30.427499771118164\n        ],\n        \"semantic_type\": \"\",\n        \"description\": \"\"\n      }\n    },\n    {\n      \"column\": \"Close\",\n      \"properties\": {\n        \"dtype\": \"number\",\n        \"std\": 41.363169124637146,\n        \"min\": 22.584999084472656,\n        \"max\": 182.00999450683594,\n        \"num_unique_values\": 1696,\n        \"samples\": [\n          39.994998931884766,\n          31.13249969482422,\n          30.325000762939453\n        ],\n        \"semantic_type\": \"\",\n        \"description\": \"\"\n      }\n    },\n    {\n      \"column\": \"Adj Close\",\n      \"properties\": {\n        \"dtype\": \"number\",\n        \"std\": 41.32918056060741,\n        \"min\": 20.720033645629883,\n        \"max\": 179.27357482910156,\n        \"num_unique_values\": 1752,\n        \"samples\": [\n          24.37207794189453,\n          25.100662231445312,\n          25.153701782226562\n        ],\n        \"semantic_type\": \"\",\n        \"description\": \"\"\n      }\n    },\n    {\n      \"column\": \"Volume\",\n      \"properties\": {\n        \"dtype\": \"number\",\n        \"std\": 69627800,\n        \"min\": 41000000,\n        \"max\": 648825200,\n        \"num_unique_values\": 1771,\n        \"samples\": [\n          167701200,\n          185672400,\n          101472400\n        ],\n        \"semantic_type\": \"\",\n        \"description\": \"\"\n      }\n    }\n  ]\n}"
            }
          },
          "metadata": {},
          "execution_count": 25
        }
      ]
    },
    {
      "cell_type": "code",
      "source": [
        "df1=data.reset_index()['Close']"
      ],
      "metadata": {
        "id": "Y2hh6bnD4wX4"
      },
      "execution_count": 28,
      "outputs": []
    },
    {
      "cell_type": "code",
      "source": [
        "df_mod=df1.iloc[0:10]"
      ],
      "metadata": {
        "id": "XX6xOObI7hWU"
      },
      "execution_count": 32,
      "outputs": []
    },
    {
      "cell_type": "code",
      "source": [
        "df_mod"
      ],
      "metadata": {
        "colab": {
          "base_uri": "https://localhost:8080/",
          "height": 398
        },
        "id": "GLzeeQpP8HKn",
        "outputId": "a145e06f-cfbe-470b-fd9e-818d753f91bd"
      },
      "execution_count": 33,
      "outputs": [
        {
          "output_type": "execute_result",
          "data": {
            "text/plain": [
              "0    27.332500\n",
              "1    26.562500\n",
              "2    26.565001\n",
              "3    26.937500\n",
              "4    27.972500\n",
              "5    28.002501\n",
              "6    27.312500\n",
              "7    27.555000\n",
              "8    27.450001\n",
              "9    26.705000\n",
              "Name: Close, dtype: float64"
            ],
            "text/html": [
              "<div>\n",
              "<style scoped>\n",
              "    .dataframe tbody tr th:only-of-type {\n",
              "        vertical-align: middle;\n",
              "    }\n",
              "\n",
              "    .dataframe tbody tr th {\n",
              "        vertical-align: top;\n",
              "    }\n",
              "\n",
              "    .dataframe thead th {\n",
              "        text-align: right;\n",
              "    }\n",
              "</style>\n",
              "<table border=\"1\" class=\"dataframe\">\n",
              "  <thead>\n",
              "    <tr style=\"text-align: right;\">\n",
              "      <th></th>\n",
              "      <th>Close</th>\n",
              "    </tr>\n",
              "  </thead>\n",
              "  <tbody>\n",
              "    <tr>\n",
              "      <th>0</th>\n",
              "      <td>27.332500</td>\n",
              "    </tr>\n",
              "    <tr>\n",
              "      <th>1</th>\n",
              "      <td>26.562500</td>\n",
              "    </tr>\n",
              "    <tr>\n",
              "      <th>2</th>\n",
              "      <td>26.565001</td>\n",
              "    </tr>\n",
              "    <tr>\n",
              "      <th>3</th>\n",
              "      <td>26.937500</td>\n",
              "    </tr>\n",
              "    <tr>\n",
              "      <th>4</th>\n",
              "      <td>27.972500</td>\n",
              "    </tr>\n",
              "    <tr>\n",
              "      <th>5</th>\n",
              "      <td>28.002501</td>\n",
              "    </tr>\n",
              "    <tr>\n",
              "      <th>6</th>\n",
              "      <td>27.312500</td>\n",
              "    </tr>\n",
              "    <tr>\n",
              "      <th>7</th>\n",
              "      <td>27.555000</td>\n",
              "    </tr>\n",
              "    <tr>\n",
              "      <th>8</th>\n",
              "      <td>27.450001</td>\n",
              "    </tr>\n",
              "    <tr>\n",
              "      <th>9</th>\n",
              "      <td>26.705000</td>\n",
              "    </tr>\n",
              "  </tbody>\n",
              "</table>\n",
              "</div><br><label><b>dtype:</b> float64</label>"
            ]
          },
          "metadata": {},
          "execution_count": 33
        }
      ]
    },
    {
      "cell_type": "code",
      "source": [
        "plt.plot(df1)"
      ],
      "metadata": {
        "colab": {
          "base_uri": "https://localhost:8080/",
          "height": 447
        },
        "id": "-BLOAUEs7oHr",
        "outputId": "389e9030-82f2-402d-d2de-74a73fa24aa7"
      },
      "execution_count": 35,
      "outputs": [
        {
          "output_type": "execute_result",
          "data": {
            "text/plain": [
              "[<matplotlib.lines.Line2D at 0x7ff9a5e33e80>]"
            ]
          },
          "metadata": {},
          "execution_count": 35
        },
        {
          "output_type": "display_data",
          "data": {
            "text/plain": [
              "<Figure size 640x480 with 1 Axes>"
            ],
            "image/png": "[encoded data removed]"
          },
          "metadata": {}
        }
      ]
    },
    {
      "cell_type": "code",
      "source": [
        "from sklearn.preprocessing import MinMaxScaler\n",
        "scaler=MinMaxScaler(feature_range=(0,1))\n",
        "df1=scaler.fit_transform(np.array(df1).reshape(-1,1))"
      ],
      "metadata": {
        "id": "cI3gCfuV7qcE"
      },
      "execution_count": 37,
      "outputs": []
    },
    {
      "cell_type": "code",
      "source": [
        "training_size=int(len(df1)*0.65)\n",
        "test_size=len(df1)-training_size\n",
        "train_data,test_data=df1[0:training_size,:],df1[training_size:len(df1),:1]"
      ],
      "metadata": {
        "id": "ABmkyLSJ9VR7"
      },
      "execution_count": 38,
      "outputs": []
    },
    {
      "cell_type": "code",
      "source": [
        "training_size,test_size"
      ],
      "metadata": {
        "colab": {
          "base_uri": "https://localhost:8080/"
        },
        "id": "CYgKKusw9cgX",
        "outputId": "49e5cc28-898b-4143-951e-abaee789ae44"
      },
      "execution_count": 39,
      "outputs": [
        {
          "output_type": "execute_result",
          "data": {
            "text/plain": [
              "(1155, 622)"
            ]
          },
          "metadata": {},
          "execution_count": 39
        }
      ]
    },
    {
      "cell_type": "code",
      "source": [
        "train_data"
      ],
      "metadata": {
        "colab": {
          "base_uri": "https://localhost:8080/"
        },
        "id": "7l77GlgM9eyH",
        "outputId": "40532108-97e1-463c-ebbf-bad94bbd0c77"
      },
      "execution_count": 40,
      "outputs": [
        {
          "output_type": "execute_result",
          "data": {
            "text/plain": [
              "array([[0.0297789 ],\n",
              "       [0.02494904],\n",
              "       [0.02496473],\n",
              "       ...,\n",
              "       [0.18518112],\n",
              "       [0.17826566],\n",
              "       [0.16151796]])"
            ]
          },
          "metadata": {},
          "execution_count": 40
        }
      ]
    },
    {
      "cell_type": "code",
      "source": [
        "import numpy\n",
        "# convert an array of values into a dataset matrix\n",
        "def create_dataset(dataset, time_step=1):\n",
        "\tdataX, dataY = [], []\n",
        "\tfor i in range(len(dataset)-time_step-1):\n",
        "\t\ta = dataset[i:(i+time_step), 0]   ###i=0, 0,1,2,3-----99   100\n",
        "\t\tdataX.append(a)\n",
        "\t\tdataY.append(dataset[i + time_step, 0])\n",
        "\treturn numpy.array(dataX), numpy.array(dataY)"
      ],
      "metadata": {
        "id": "cg39KqOw9ige"
      },
      "execution_count": 41,
      "outputs": []
    },
    {
      "cell_type": "code",
      "source": [
        "time_step = 100\n",
        "X_train, y_train = create_dataset(train_data, time_step)\n",
        "X_test, ytest = create_dataset(test_data, time_step)"
      ],
      "metadata": {
        "id": "6nssWfbL_m5o"
      },
      "execution_count": 42,
      "outputs": []
    },
    {
      "cell_type": "code",
      "source": [
        "X_train.shape"
      ],
      "metadata": {
        "colab": {
          "base_uri": "https://localhost:8080/"
        },
        "id": "grzf1m1N_qJF",
        "outputId": "ed7ee5d5-f2c4-4114-b1c1-1131746c759d"
      },
      "execution_count": 50,
      "outputs": [
        {
          "output_type": "execute_result",
          "data": {
            "text/plain": [
              "(1054, 100)"
            ]
          },
          "metadata": {},
          "execution_count": 50
        }
      ]
    },
    {
      "cell_type": "code",
      "source": [
        "X_test.shape"
      ],
      "metadata": {
        "colab": {
          "base_uri": "https://localhost:8080/"
        },
        "id": "WOQFGLEc_rzV",
        "outputId": "2c875366-393b-4585-ee0e-2d8fd20829c9"
      },
      "execution_count": 51,
      "outputs": [
        {
          "output_type": "execute_result",
          "data": {
            "text/plain": [
              "(521, 100)"
            ]
          },
          "metadata": {},
          "execution_count": 51
        }
      ]
    },
    {
      "cell_type": "code",
      "source": [
        "X_train =X_train.reshape(X_train.shape[0],X_train.shape[1] , 1)\n",
        "X_test = X_test.reshape(X_test.shape[0],X_test.shape[1] , 1)"
      ],
      "metadata": {
        "id": "vKKZZFmC_tYj"
      },
      "execution_count": 52,
      "outputs": []
    },
    {
      "cell_type": "code",
      "source": [
        "from tensorflow.keras.models import Sequential\n",
        "from tensorflow.keras.layers import Dense\n",
        "from tensorflow.keras.layers import LSTM"
      ],
      "metadata": {
        "id": "6m0ne1laGbCU"
      },
      "execution_count": 53,
      "outputs": []
    },
    {
      "cell_type": "code",
      "source": [
        "model=Sequential()\n",
        "model.add(LSTM(50,return_sequences=True,input_shape=(100,1)))\n",
        "model.add(LSTM(50,return_sequences=True))\n",
        "model.add(LSTM(50))\n",
        "model.add(Dense(1))\n",
        "model.compile(loss='mean_squared_error',optimizer='adam')"
      ],
      "metadata": {
        "colab": {
          "base_uri": "https://localhost:8080/"
        },
        "id": "wcYrDfUsGfAA",
        "outputId": "44cc6d43-4303-4d58-84fb-c7f7c887a56f"
      },
      "execution_count": 54,
      "outputs": [
        {
          "output_type": "stream",
          "name": "stderr",
          "text": [
            "/usr/local/lib/python3.10/dist-packages/keras/src/layers/rnn/rnn.py:204: UserWarning: Do not pass an `input_shape`/`input_dim` argument to a layer. When using Sequential models, prefer using an `Input(shape)` object as the first layer in the model instead.\n",
            "  super().__init__(**kwargs)\n"
          ]
        }
      ]
    },
    {
      "cell_type": "code",
      "source": [
        "model.summary()\n"
      ],
      "metadata": {
        "colab": {
          "base_uri": "https://localhost:8080/",
          "height": 257
        },
        "id": "elhBYxASIW5v",
        "outputId": "3b35c2e9-42b8-4e04-be84-2b8c70cacf4d"
      },
      "execution_count": 55,
      "outputs": [
        {
          "output_type": "display_data",
          "data": {
            "text/plain": [
              "\u001b[1mModel: \"sequential\"\u001b[0m\n"
            ],
            "text/html": [
              "<pre style=\"white-space:pre;overflow-x:auto;line-height:normal;font-family:Menlo,'DejaVu Sans Mono',consolas,'Courier New',monospace\"><span style=\"font-weight: bold\">Model: \"sequential\"</span>\n",
              "</pre>\n"
            ]
          },
          "metadata": {}
        },
        {
          "output_type": "display_data",
          "data": {
            "text/plain": [
              "┏━━━━━━━━━━━━━━━━━━━━━━━━━━━━━━━━━━━━━━┳━━━━━━━━━━━━━━━━━━━━━━━━━━━━━┳━━━━━━━━━━━━━━━━━┓\n",
              "┃\u001b[1m \u001b[0m\u001b[1mLayer (type)                        \u001b[0m\u001b[1m \u001b[0m┃\u001b[1m \u001b[0m\u001b[1mOutput Shape               \u001b[0m\u001b[1m \u001b[0m┃\u001b[1m \u001b[0m\u001b[1m        Param #\u001b[0m\u001b[1m \u001b[0m┃\n",
              "┡━━━━━━━━━━━━━━━━━━━━━━━━━━━━━━━━━━━━━━╇━━━━━━━━━━━━━━━━━━━━━━━━━━━━━╇━━━━━━━━━━━━━━━━━┩\n",
              "│ lstm (\u001b[38;5;33mLSTM\u001b[0m)                          │ (\u001b[38;5;45mNone\u001b[0m, \u001b[38;5;34m100\u001b[0m, \u001b[38;5;34m50\u001b[0m)             │          \u001b[38;5;34m10,400\u001b[0m │\n",
              "├──────────────────────────────────────┼─────────────────────────────┼─────────────────┤\n",
              "│ lstm_1 (\u001b[38;5;33mLSTM\u001b[0m)                        │ (\u001b[38;5;45mNone\u001b[0m, \u001b[38;5;34m100\u001b[0m, \u001b[38;5;34m50\u001b[0m)             │          \u001b[38;5;34m20,200\u001b[0m │\n",
              "├──────────────────────────────────────┼─────────────────────────────┼─────────────────┤\n",
              "│ lstm_2 (\u001b[38;5;33mLSTM\u001b[0m)                        │ (\u001b[38;5;45mNone\u001b[0m, \u001b[38;5;34m50\u001b[0m)                  │          \u001b[38;5;34m20,200\u001b[0m │\n",
              "├──────────────────────────────────────┼─────────────────────────────┼─────────────────┤\n",
              "│ dense (\u001b[38;5;33mDense\u001b[0m)                        │ (\u001b[38;5;45mNone\u001b[0m, \u001b[38;5;34m1\u001b[0m)                   │              \u001b[38;5;34m51\u001b[0m │\n",
              "└──────────────────────────────────────┴─────────────────────────────┴─────────────────┘\n"
            ],
            "text/html": [
              "<pre style=\"white-space:pre;overflow-x:auto;line-height:normal;font-family:Menlo,'DejaVu Sans Mono',consolas,'Courier New',monospace\">┏━━━━━━━━━━━━━━━━━━━━━━━━━━━━━━━━━━━━━━┳━━━━━━━━━━━━━━━━━━━━━━━━━━━━━┳━━━━━━━━━━━━━━━━━┓\n",
              "┃<span style=\"font-weight: bold\"> Layer (type)                         </span>┃<span style=\"font-weight: bold\"> Output Shape                </span>┃<span style=\"font-weight: bold\">         Param # </span>┃\n",
              "┡━━━━━━━━━━━━━━━━━━━━━━━━━━━━━━━━━━━━━━╇━━━━━━━━━━━━━━━━━━━━━━━━━━━━━╇━━━━━━━━━━━━━━━━━┩\n",
              "│ lstm (<span style=\"color: #0087ff; text-decoration-color: #0087ff\">LSTM</span>)                          │ (<span style=\"color: #00d7ff; text-decoration-color: #00d7ff\">None</span>, <span style=\"color: #00af00; text-decoration-color: #00af00\">100</span>, <span style=\"color: #00af00; text-decoration-color: #00af00\">50</span>)             │          <span style=\"color: #00af00; text-decoration-color: #00af00\">10,400</span> │\n",
              "├──────────────────────────────────────┼─────────────────────────────┼─────────────────┤\n",
              "│ lstm_1 (<span style=\"color: #0087ff; text-decoration-color: #0087ff\">LSTM</span>)                        │ (<span style=\"color: #00d7ff; text-decoration-color: #00d7ff\">None</span>, <span style=\"color: #00af00; text-decoration-color: #00af00\">100</span>, <span style=\"color: #00af00; text-decoration-color: #00af00\">50</span>)             │          <span style=\"color: #00af00; text-decoration-color: #00af00\">20,200</span> │\n",
              "├──────────────────────────────────────┼─────────────────────────────┼─────────────────┤\n",
              "│ lstm_2 (<span style=\"color: #0087ff; text-decoration-color: #0087ff\">LSTM</span>)                        │ (<span style=\"color: #00d7ff; text-decoration-color: #00d7ff\">None</span>, <span style=\"color: #00af00; text-decoration-color: #00af00\">50</span>)                  │          <span style=\"color: #00af00; text-decoration-color: #00af00\">20,200</span> │\n",
              "├──────────────────────────────────────┼─────────────────────────────┼─────────────────┤\n",
              "│ dense (<span style=\"color: #0087ff; text-decoration-color: #0087ff\">Dense</span>)                        │ (<span style=\"color: #00d7ff; text-decoration-color: #00d7ff\">None</span>, <span style=\"color: #00af00; text-decoration-color: #00af00\">1</span>)                   │              <span style=\"color: #00af00; text-decoration-color: #00af00\">51</span> │\n",
              "└──────────────────────────────────────┴─────────────────────────────┴─────────────────┘\n",
              "</pre>\n"
            ]
          },
          "metadata": {}
        },
        {
          "output_type": "display_data",
          "data": {
            "text/plain": [
              "\u001b[1m Total params: \u001b[0m\u001b[38;5;34m50,851\u001b[0m (198.64 KB)\n"
            ],
            "text/html": [
              "<pre style=\"white-space:pre;overflow-x:auto;line-height:normal;font-family:Menlo,'DejaVu Sans Mono',consolas,'Courier New',monospace\"><span style=\"font-weight: bold\"> Total params: </span><span style=\"color: #00af00; text-decoration-color: #00af00\">50,851</span> (198.64 KB)\n",
              "</pre>\n"
            ]
          },
          "metadata": {}
        },
        {
          "output_type": "display_data",
          "data": {
            "text/plain": [
              "\u001b[1m Trainable params: \u001b[0m\u001b[38;5;34m50,851\u001b[0m (198.64 KB)\n"
            ],
            "text/html": [
              "<pre style=\"white-space:pre;overflow-x:auto;line-height:normal;font-family:Menlo,'DejaVu Sans Mono',consolas,'Courier New',monospace\"><span style=\"font-weight: bold\"> Trainable params: </span><span style=\"color: #00af00; text-decoration-color: #00af00\">50,851</span> (198.64 KB)\n",
              "</pre>\n"
            ]
          },
          "metadata": {}
        },
        {
          "output_type": "display_data",
          "data": {
            "text/plain": [
              "\u001b[1m Non-trainable params: \u001b[0m\u001b[38;5;34m0\u001b[0m (0.00 B)\n"
            ],
            "text/html": [
              "<pre style=\"white-space:pre;overflow-x:auto;line-height:normal;font-family:Menlo,'DejaVu Sans Mono',consolas,'Courier New',monospace\"><span style=\"font-weight: bold\"> Non-trainable params: </span><span style=\"color: #00af00; text-decoration-color: #00af00\">0</span> (0.00 B)\n",
              "</pre>\n"
            ]
          },
          "metadata": {}
        }
      ]
    },
    {
      "cell_type": "code",
      "source": [
        "model.fit(X_train,y_train,validation_data=(X_test,ytest),epochs=100,batch_size=64,verbose=1)"
      ],
      "metadata": {
        "colab": {
          "base_uri": "https://localhost:8080/"
        },
        "id": "8NK-YyaGIaAg",
        "outputId": "33bd366d-6e9f-413f-82f9-c3a958480fd2"
      },
      "execution_count": 56,
      "outputs": [
        {
          "output_type": "stream",
          "name": "stdout",
          "text": [
            "Epoch 1/100\n",
            "\u001b[1m17/17\u001b[0m \u001b[32m━━━━━━━━━━━━━━━━━━━━\u001b[0m\u001b[37m\u001b[0m \u001b[1m10s\u001b[0m 296ms/step - loss: 0.0055 - val_loss: 0.0412\n",
            "Epoch 2/100\n",
            "\u001b[1m17/17\u001b[0m \u001b[32m━━━━━━━━━━━━━━━━━━━━\u001b[0m\u001b[37m\u001b[0m \u001b[1m8s\u001b[0m 177ms/step - loss: 5.1147e-04 - val_loss: 0.0023\n",
            "Epoch 3/100\n",
            "\u001b[1m17/17\u001b[0m \u001b[32m━━━━━━━━━━━━━━━━━━━━\u001b[0m\u001b[37m\u001b[0m \u001b[1m5s\u001b[0m 180ms/step - loss: 1.7803e-04 - val_loss: 0.0100\n",
            "Epoch 4/100\n",
            "\u001b[1m17/17\u001b[0m \u001b[32m━━━━━━━━━━━━━━━━━━━━\u001b[0m\u001b[37m\u001b[0m \u001b[1m3s\u001b[0m 176ms/step - loss: 1.5859e-04 - val_loss: 0.0069\n",
            "Epoch 5/100\n",
            "\u001b[1m17/17\u001b[0m \u001b[32m━━━━━━━━━━━━━━━━━━━━\u001b[0m\u001b[37m\u001b[0m \u001b[1m6s\u001b[0m 206ms/step - loss: 1.3722e-04 - val_loss: 0.0101\n",
            "Epoch 6/100\n",
            "\u001b[1m17/17\u001b[0m \u001b[32m━━━━━━━━━━━━━━━━━━━━\u001b[0m\u001b[37m\u001b[0m \u001b[1m5s\u001b[0m 177ms/step - loss: 1.2747e-04 - val_loss: 0.0092\n",
            "Epoch 7/100\n",
            "\u001b[1m17/17\u001b[0m \u001b[32m━━━━━━━━━━━━━━━━━━━━\u001b[0m\u001b[37m\u001b[0m \u001b[1m3s\u001b[0m 180ms/step - loss: 1.2832e-04 - val_loss: 0.0107\n",
            "Epoch 8/100\n",
            "\u001b[1m17/17\u001b[0m \u001b[32m━━━━━━━━━━━━━━━━━━━━\u001b[0m\u001b[37m\u001b[0m \u001b[1m6s\u001b[0m 242ms/step - loss: 1.2317e-04 - val_loss: 0.0104\n",
            "Epoch 9/100\n",
            "\u001b[1m17/17\u001b[0m \u001b[32m━━━━━━━━━━━━━━━━━━━━\u001b[0m\u001b[37m\u001b[0m \u001b[1m4s\u001b[0m 214ms/step - loss: 1.1611e-04 - val_loss: 0.0123\n",
            "Epoch 10/100\n",
            "\u001b[1m17/17\u001b[0m \u001b[32m━━━━━━━━━━━━━━━━━━━━\u001b[0m\u001b[37m\u001b[0m \u001b[1m4s\u001b[0m 177ms/step - loss: 1.2005e-04 - val_loss: 0.0108\n",
            "Epoch 11/100\n",
            "\u001b[1m17/17\u001b[0m \u001b[32m━━━━━━━━━━━━━━━━━━━━\u001b[0m\u001b[37m\u001b[0m \u001b[1m6s\u001b[0m 236ms/step - loss: 1.1504e-04 - val_loss: 0.0181\n",
            "Epoch 12/100\n",
            "\u001b[1m17/17\u001b[0m \u001b[32m━━━━━━━━━━━━━━━━━━━━\u001b[0m\u001b[37m\u001b[0m \u001b[1m4s\u001b[0m 177ms/step - loss: 9.9949e-05 - val_loss: 0.0181\n",
            "Epoch 13/100\n",
            "\u001b[1m17/17\u001b[0m \u001b[32m━━━━━━━━━━━━━━━━━━━━\u001b[0m\u001b[37m\u001b[0m \u001b[1m5s\u001b[0m 179ms/step - loss: 9.7457e-05 - val_loss: 0.0183\n",
            "Epoch 14/100\n",
            "\u001b[1m17/17\u001b[0m \u001b[32m━━━━━━━━━━━━━━━━━━━━\u001b[0m\u001b[37m\u001b[0m \u001b[1m6s\u001b[0m 245ms/step - loss: 1.0381e-04 - val_loss: 0.0225\n",
            "Epoch 15/100\n",
            "\u001b[1m17/17\u001b[0m \u001b[32m━━━━━━━━━━━━━━━━━━━━\u001b[0m\u001b[37m\u001b[0m \u001b[1m4s\u001b[0m 175ms/step - loss: 9.0159e-05 - val_loss: 0.0180\n",
            "Epoch 16/100\n",
            "\u001b[1m17/17\u001b[0m \u001b[32m━━━━━━━━━━━━━━━━━━━━\u001b[0m\u001b[37m\u001b[0m \u001b[1m5s\u001b[0m 191ms/step - loss: 1.0505e-04 - val_loss: 0.0227\n",
            "Epoch 17/100\n",
            "\u001b[1m17/17\u001b[0m \u001b[32m━━━━━━━━━━━━━━━━━━━━\u001b[0m\u001b[37m\u001b[0m \u001b[1m5s\u001b[0m 177ms/step - loss: 8.6978e-05 - val_loss: 0.0276\n",
            "Epoch 18/100\n",
            "\u001b[1m17/17\u001b[0m \u001b[32m━━━━━━━━━━━━━━━━━━━━\u001b[0m\u001b[37m\u001b[0m \u001b[1m5s\u001b[0m 177ms/step - loss: 9.6931e-05 - val_loss: 0.0248\n",
            "Epoch 19/100\n",
            "\u001b[1m17/17\u001b[0m \u001b[32m━━━━━━━━━━━━━━━━━━━━\u001b[0m\u001b[37m\u001b[0m \u001b[1m6s\u001b[0m 256ms/step - loss: 8.9738e-05 - val_loss: 0.0223\n",
            "Epoch 20/100\n",
            "\u001b[1m17/17\u001b[0m \u001b[32m━━━━━━━━━━━━━━━━━━━━\u001b[0m\u001b[37m\u001b[0m \u001b[1m3s\u001b[0m 179ms/step - loss: 9.5294e-05 - val_loss: 0.0223\n",
            "Epoch 21/100\n",
            "\u001b[1m17/17\u001b[0m \u001b[32m━━━━━━━━━━━━━━━━━━━━\u001b[0m\u001b[37m\u001b[0m \u001b[1m5s\u001b[0m 177ms/step - loss: 8.1024e-05 - val_loss: 0.0202\n",
            "Epoch 22/100\n",
            "\u001b[1m17/17\u001b[0m \u001b[32m━━━━━━━━━━━━━━━━━━━━\u001b[0m\u001b[37m\u001b[0m \u001b[1m6s\u001b[0m 218ms/step - loss: 9.3549e-05 - val_loss: 0.0172\n",
            "Epoch 23/100\n",
            "\u001b[1m17/17\u001b[0m \u001b[32m━━━━━━━━━━━━━━━━━━━━\u001b[0m\u001b[37m\u001b[0m \u001b[1m4s\u001b[0m 176ms/step - loss: 8.4176e-05 - val_loss: 0.0221\n",
            "Epoch 24/100\n",
            "\u001b[1m17/17\u001b[0m \u001b[32m━━━━━━━━━━━━━━━━━━━━\u001b[0m\u001b[37m\u001b[0m \u001b[1m6s\u001b[0m 250ms/step - loss: 8.4955e-05 - val_loss: 0.0236\n",
            "Epoch 25/100\n",
            "\u001b[1m17/17\u001b[0m \u001b[32m━━━━━━━━━━━━━━━━━━━━\u001b[0m\u001b[37m\u001b[0m \u001b[1m4s\u001b[0m 177ms/step - loss: 7.8046e-05 - val_loss: 0.0193\n",
            "Epoch 26/100\n",
            "\u001b[1m17/17\u001b[0m \u001b[32m━━━━━━━━━━━━━━━━━━━━\u001b[0m\u001b[37m\u001b[0m \u001b[1m5s\u001b[0m 176ms/step - loss: 8.9570e-05 - val_loss: 0.0173\n",
            "Epoch 27/100\n",
            "\u001b[1m17/17\u001b[0m \u001b[32m━━━━━━━━━━━━━━━━━━━━\u001b[0m\u001b[37m\u001b[0m \u001b[1m4s\u001b[0m 252ms/step - loss: 7.5295e-05 - val_loss: 0.0204\n",
            "Epoch 28/100\n",
            "\u001b[1m17/17\u001b[0m \u001b[32m━━━━━━━━━━━━━━━━━━━━\u001b[0m\u001b[37m\u001b[0m \u001b[1m4s\u001b[0m 233ms/step - loss: 7.6598e-05 - val_loss: 0.0190\n",
            "Epoch 29/100\n",
            "\u001b[1m17/17\u001b[0m \u001b[32m━━━━━━━━━━━━━━━━━━━━\u001b[0m\u001b[37m\u001b[0m \u001b[1m3s\u001b[0m 182ms/step - loss: 7.8542e-05 - val_loss: 0.0187\n",
            "Epoch 30/100\n",
            "\u001b[1m17/17\u001b[0m \u001b[32m━━━━━━━━━━━━━━━━━━━━\u001b[0m\u001b[37m\u001b[0m \u001b[1m5s\u001b[0m 201ms/step - loss: 8.3731e-05 - val_loss: 0.0201\n",
            "Epoch 31/100\n",
            "\u001b[1m17/17\u001b[0m \u001b[32m━━━━━━━━━━━━━━━━━━━━\u001b[0m\u001b[37m\u001b[0m \u001b[1m5s\u001b[0m 183ms/step - loss: 7.2581e-05 - val_loss: 0.0125\n",
            "Epoch 32/100\n",
            "\u001b[1m17/17\u001b[0m \u001b[32m━━━━━━━━━━━━━━━━━━━━\u001b[0m\u001b[37m\u001b[0m \u001b[1m3s\u001b[0m 180ms/step - loss: 9.1775e-05 - val_loss: 0.0169\n",
            "Epoch 33/100\n",
            "\u001b[1m17/17\u001b[0m \u001b[32m━━━━━━━━━━━━━━━━━━━━\u001b[0m\u001b[37m\u001b[0m \u001b[1m6s\u001b[0m 239ms/step - loss: 7.2794e-05 - val_loss: 0.0158\n",
            "Epoch 34/100\n",
            "\u001b[1m17/17\u001b[0m \u001b[32m━━━━━━━━━━━━━━━━━━━━\u001b[0m\u001b[37m\u001b[0m \u001b[1m4s\u001b[0m 179ms/step - loss: 6.6557e-05 - val_loss: 0.0119\n",
            "Epoch 35/100\n",
            "\u001b[1m17/17\u001b[0m \u001b[32m━━━━━━━━━━━━━━━━━━━━\u001b[0m\u001b[37m\u001b[0m \u001b[1m5s\u001b[0m 184ms/step - loss: 7.7243e-05 - val_loss: 0.0114\n",
            "Epoch 36/100\n",
            "\u001b[1m17/17\u001b[0m \u001b[32m━━━━━━━━━━━━━━━━━━━━\u001b[0m\u001b[37m\u001b[0m \u001b[1m6s\u001b[0m 246ms/step - loss: 7.3015e-05 - val_loss: 0.0152\n",
            "Epoch 37/100\n",
            "\u001b[1m17/17\u001b[0m \u001b[32m━━━━━━━━━━━━━━━━━━━━\u001b[0m\u001b[37m\u001b[0m \u001b[1m4s\u001b[0m 180ms/step - loss: 6.7186e-05 - val_loss: 0.0164\n",
            "Epoch 38/100\n",
            "\u001b[1m17/17\u001b[0m \u001b[32m━━━━━━━━━━━━━━━━━━━━\u001b[0m\u001b[37m\u001b[0m \u001b[1m3s\u001b[0m 178ms/step - loss: 6.0190e-05 - val_loss: 0.0115\n",
            "Epoch 39/100\n",
            "\u001b[1m17/17\u001b[0m \u001b[32m━━━━━━━━━━━━━━━━━━━━\u001b[0m\u001b[37m\u001b[0m \u001b[1m6s\u001b[0m 248ms/step - loss: 6.4841e-05 - val_loss: 0.0130\n",
            "Epoch 40/100\n",
            "\u001b[1m17/17\u001b[0m \u001b[32m━━━━━━━━━━━━━━━━━━━━\u001b[0m\u001b[37m\u001b[0m \u001b[1m4s\u001b[0m 179ms/step - loss: 6.7060e-05 - val_loss: 0.0148\n",
            "Epoch 41/100\n",
            "\u001b[1m17/17\u001b[0m \u001b[32m━━━━━━━━━━━━━━━━━━━━\u001b[0m\u001b[37m\u001b[0m \u001b[1m3s\u001b[0m 178ms/step - loss: 6.6762e-05 - val_loss: 0.0100\n",
            "Epoch 42/100\n",
            "\u001b[1m17/17\u001b[0m \u001b[32m━━━━━━━━━━━━━━━━━━━━\u001b[0m\u001b[37m\u001b[0m \u001b[1m7s\u001b[0m 267ms/step - loss: 7.2708e-05 - val_loss: 0.0077\n",
            "Epoch 43/100\n",
            "\u001b[1m17/17\u001b[0m \u001b[32m━━━━━━━━━━━━━━━━━━━━\u001b[0m\u001b[37m\u001b[0m \u001b[1m4s\u001b[0m 178ms/step - loss: 6.8036e-05 - val_loss: 0.0122\n",
            "Epoch 44/100\n",
            "\u001b[1m17/17\u001b[0m \u001b[32m━━━━━━━━━━━━━━━━━━━━\u001b[0m\u001b[37m\u001b[0m \u001b[1m5s\u001b[0m 179ms/step - loss: 6.1376e-05 - val_loss: 0.0129\n",
            "Epoch 45/100\n",
            "\u001b[1m17/17\u001b[0m \u001b[32m━━━━━━━━━━━━━━━━━━━━\u001b[0m\u001b[37m\u001b[0m \u001b[1m5s\u001b[0m 180ms/step - loss: 5.9900e-05 - val_loss: 0.0142\n",
            "Epoch 46/100\n",
            "\u001b[1m17/17\u001b[0m \u001b[32m━━━━━━━━━━━━━━━━━━━━\u001b[0m\u001b[37m\u001b[0m \u001b[1m5s\u001b[0m 176ms/step - loss: 5.7466e-05 - val_loss: 0.0126\n",
            "Epoch 47/100\n",
            "\u001b[1m17/17\u001b[0m \u001b[32m━━━━━━━━━━━━━━━━━━━━\u001b[0m\u001b[37m\u001b[0m \u001b[1m7s\u001b[0m 288ms/step - loss: 6.8161e-05 - val_loss: 0.0077\n",
            "Epoch 48/100\n",
            "\u001b[1m17/17\u001b[0m \u001b[32m━━━━━━━━━━━━━━━━━━━━\u001b[0m\u001b[37m\u001b[0m \u001b[1m3s\u001b[0m 179ms/step - loss: 7.7927e-05 - val_loss: 0.0094\n",
            "Epoch 49/100\n",
            "\u001b[1m17/17\u001b[0m \u001b[32m━━━━━━━━━━━━━━━━━━━━\u001b[0m\u001b[37m\u001b[0m \u001b[1m5s\u001b[0m 177ms/step - loss: 6.5853e-05 - val_loss: 0.0105\n",
            "Epoch 50/100\n",
            "\u001b[1m17/17\u001b[0m \u001b[32m━━━━━━━━━━━━━━━━━━━━\u001b[0m\u001b[37m\u001b[0m \u001b[1m6s\u001b[0m 238ms/step - loss: 5.3273e-05 - val_loss: 0.0112\n",
            "Epoch 51/100\n",
            "\u001b[1m17/17\u001b[0m \u001b[32m━━━━━━━━━━━━━━━━━━━━\u001b[0m\u001b[37m\u001b[0m \u001b[1m3s\u001b[0m 176ms/step - loss: 5.9748e-05 - val_loss: 0.0122\n",
            "Epoch 52/100\n",
            "\u001b[1m17/17\u001b[0m \u001b[32m━━━━━━━━━━━━━━━━━━━━\u001b[0m\u001b[37m\u001b[0m \u001b[1m5s\u001b[0m 176ms/step - loss: 5.8370e-05 - val_loss: 0.0123\n",
            "Epoch 53/100\n",
            "\u001b[1m17/17\u001b[0m \u001b[32m━━━━━━━━━━━━━━━━━━━━\u001b[0m\u001b[37m\u001b[0m \u001b[1m5s\u001b[0m 178ms/step - loss: 5.7827e-05 - val_loss: 0.0109\n",
            "Epoch 54/100\n",
            "\u001b[1m17/17\u001b[0m \u001b[32m━━━━━━━━━━━━━━━━━━━━\u001b[0m\u001b[37m\u001b[0m \u001b[1m3s\u001b[0m 177ms/step - loss: 5.4920e-05 - val_loss: 0.0099\n",
            "Epoch 55/100\n",
            "\u001b[1m17/17\u001b[0m \u001b[32m━━━━━━━━━━━━━━━━━━━━\u001b[0m\u001b[37m\u001b[0m \u001b[1m6s\u001b[0m 211ms/step - loss: 5.3195e-05 - val_loss: 0.0134\n",
            "Epoch 56/100\n",
            "\u001b[1m17/17\u001b[0m \u001b[32m━━━━━━━━━━━━━━━━━━━━\u001b[0m\u001b[37m\u001b[0m \u001b[1m5s\u001b[0m 179ms/step - loss: 5.4871e-05 - val_loss: 0.0088\n",
            "Epoch 57/100\n",
            "\u001b[1m17/17\u001b[0m \u001b[32m━━━━━━━━━━━━━━━━━━━━\u001b[0m\u001b[37m\u001b[0m \u001b[1m3s\u001b[0m 180ms/step - loss: 4.7879e-05 - val_loss: 0.0096\n",
            "Epoch 58/100\n",
            "\u001b[1m17/17\u001b[0m \u001b[32m━━━━━━━━━━━━━━━━━━━━\u001b[0m\u001b[37m\u001b[0m \u001b[1m6s\u001b[0m 247ms/step - loss: 5.1207e-05 - val_loss: 0.0087\n",
            "Epoch 59/100\n",
            "\u001b[1m17/17\u001b[0m \u001b[32m━━━━━━━━━━━━━━━━━━━━\u001b[0m\u001b[37m\u001b[0m \u001b[1m4s\u001b[0m 177ms/step - loss: 5.8854e-05 - val_loss: 0.0111\n",
            "Epoch 60/100\n",
            "\u001b[1m17/17\u001b[0m \u001b[32m━━━━━━━━━━━━━━━━━━━━\u001b[0m\u001b[37m\u001b[0m \u001b[1m5s\u001b[0m 180ms/step - loss: 4.9460e-05 - val_loss: 0.0102\n",
            "Epoch 61/100\n",
            "\u001b[1m17/17\u001b[0m \u001b[32m━━━━━━━━━━━━━━━━━━━━\u001b[0m\u001b[37m\u001b[0m \u001b[1m6s\u001b[0m 239ms/step - loss: 4.3911e-05 - val_loss: 0.0104\n",
            "Epoch 62/100\n",
            "\u001b[1m17/17\u001b[0m \u001b[32m━━━━━━━━━━━━━━━━━━━━\u001b[0m\u001b[37m\u001b[0m \u001b[1m3s\u001b[0m 180ms/step - loss: 5.4536e-05 - val_loss: 0.0084\n",
            "Epoch 63/100\n",
            "\u001b[1m17/17\u001b[0m \u001b[32m━━━━━━━━━━━━━━━━━━━━\u001b[0m\u001b[37m\u001b[0m \u001b[1m5s\u001b[0m 180ms/step - loss: 4.9519e-05 - val_loss: 0.0083\n",
            "Epoch 64/100\n",
            "\u001b[1m17/17\u001b[0m \u001b[32m━━━━━━━━━━━━━━━━━━━━\u001b[0m\u001b[37m\u001b[0m \u001b[1m5s\u001b[0m 184ms/step - loss: 4.2912e-05 - val_loss: 0.0075\n",
            "Epoch 65/100\n",
            "\u001b[1m17/17\u001b[0m \u001b[32m━━━━━━━━━━━━━━━━━━━━\u001b[0m\u001b[37m\u001b[0m \u001b[1m5s\u001b[0m 177ms/step - loss: 5.7165e-05 - val_loss: 0.0101\n",
            "Epoch 66/100\n",
            "\u001b[1m17/17\u001b[0m \u001b[32m━━━━━━━━━━━━━━━━━━━━\u001b[0m\u001b[37m\u001b[0m \u001b[1m7s\u001b[0m 291ms/step - loss: 4.5799e-05 - val_loss: 0.0131\n",
            "Epoch 67/100\n",
            "\u001b[1m17/17\u001b[0m \u001b[32m━━━━━━━━━━━━━━━━━━━━\u001b[0m\u001b[37m\u001b[0m \u001b[1m3s\u001b[0m 180ms/step - loss: 4.5975e-05 - val_loss: 0.0107\n",
            "Epoch 68/100\n",
            "\u001b[1m17/17\u001b[0m \u001b[32m━━━━━━━━━━━━━━━━━━━━\u001b[0m\u001b[37m\u001b[0m \u001b[1m5s\u001b[0m 187ms/step - loss: 4.8879e-05 - val_loss: 0.0095\n",
            "Epoch 69/100\n",
            "\u001b[1m17/17\u001b[0m \u001b[32m━━━━━━━━━━━━━━━━━━━━\u001b[0m\u001b[37m\u001b[0m \u001b[1m6s\u001b[0m 246ms/step - loss: 4.0863e-05 - val_loss: 0.0084\n",
            "Epoch 70/100\n",
            "\u001b[1m17/17\u001b[0m \u001b[32m━━━━━━━━━━━━━━━━━━━━\u001b[0m\u001b[37m\u001b[0m \u001b[1m4s\u001b[0m 182ms/step - loss: 4.6670e-05 - val_loss: 0.0079\n",
            "Epoch 71/100\n",
            "\u001b[1m17/17\u001b[0m \u001b[32m━━━━━━━━━━━━━━━━━━━━\u001b[0m\u001b[37m\u001b[0m \u001b[1m3s\u001b[0m 178ms/step - loss: 4.1816e-05 - val_loss: 0.0084\n",
            "Epoch 72/100\n",
            "\u001b[1m17/17\u001b[0m \u001b[32m━━━━━━━━━━━━━━━━━━━━\u001b[0m\u001b[37m\u001b[0m \u001b[1m6s\u001b[0m 256ms/step - loss: 3.6613e-05 - val_loss: 0.0081\n",
            "Epoch 73/100\n",
            "\u001b[1m17/17\u001b[0m \u001b[32m━━━━━━━━━━━━━━━━━━━━\u001b[0m\u001b[37m\u001b[0m \u001b[1m4s\u001b[0m 180ms/step - loss: 4.1016e-05 - val_loss: 0.0078\n",
            "Epoch 74/100\n",
            "\u001b[1m17/17\u001b[0m \u001b[32m━━━━━━━━━━━━━━━━━━━━\u001b[0m\u001b[37m\u001b[0m \u001b[1m3s\u001b[0m 179ms/step - loss: 4.5273e-05 - val_loss: 0.0082\n",
            "Epoch 75/100\n",
            "\u001b[1m17/17\u001b[0m \u001b[32m━━━━━━━━━━━━━━━━━━━━\u001b[0m\u001b[37m\u001b[0m \u001b[1m4s\u001b[0m 214ms/step - loss: 4.0850e-05 - val_loss: 0.0068\n",
            "Epoch 76/100\n",
            "\u001b[1m17/17\u001b[0m \u001b[32m━━━━━━━━━━━━━━━━━━━━\u001b[0m\u001b[37m\u001b[0m \u001b[1m5s\u001b[0m 178ms/step - loss: 5.3822e-05 - val_loss: 0.0145\n",
            "Epoch 77/100\n",
            "\u001b[1m17/17\u001b[0m \u001b[32m━━━━━━━━━━━━━━━━━━━━\u001b[0m\u001b[37m\u001b[0m \u001b[1m5s\u001b[0m 181ms/step - loss: 5.3835e-05 - val_loss: 0.0074\n",
            "Epoch 78/100\n",
            "\u001b[1m17/17\u001b[0m \u001b[32m━━━━━━━━━━━━━━━━━━━━\u001b[0m\u001b[37m\u001b[0m \u001b[1m4s\u001b[0m 244ms/step - loss: 4.1606e-05 - val_loss: 0.0056\n",
            "Epoch 79/100\n",
            "\u001b[1m17/17\u001b[0m \u001b[32m━━━━━━━━━━━━━━━━━━━━\u001b[0m\u001b[37m\u001b[0m \u001b[1m4s\u001b[0m 212ms/step - loss: 4.4190e-05 - val_loss: 0.0056\n",
            "Epoch 80/100\n",
            "\u001b[1m17/17\u001b[0m \u001b[32m━━━━━━━━━━━━━━━━━━━━\u001b[0m\u001b[37m\u001b[0m \u001b[1m5s\u001b[0m 181ms/step - loss: 3.8586e-05 - val_loss: 0.0053\n",
            "Epoch 81/100\n",
            "\u001b[1m17/17\u001b[0m \u001b[32m━━━━━━━━━━━━━━━━━━━━\u001b[0m\u001b[37m\u001b[0m \u001b[1m6s\u001b[0m 250ms/step - loss: 4.2819e-05 - val_loss: 0.0082\n",
            "Epoch 82/100\n",
            "\u001b[1m17/17\u001b[0m \u001b[32m━━━━━━━━━━━━━━━━━━━━\u001b[0m\u001b[37m\u001b[0m \u001b[1m4s\u001b[0m 179ms/step - loss: 4.4725e-05 - val_loss: 0.0088\n",
            "Epoch 83/100\n",
            "\u001b[1m17/17\u001b[0m \u001b[32m━━━━━━━━━━━━━━━━━━━━\u001b[0m\u001b[37m\u001b[0m \u001b[1m5s\u001b[0m 178ms/step - loss: 4.4416e-05 - val_loss: 0.0087\n",
            "Epoch 84/100\n",
            "\u001b[1m17/17\u001b[0m \u001b[32m━━━━━━━━━━━━━━━━━━━━\u001b[0m\u001b[37m\u001b[0m \u001b[1m4s\u001b[0m 246ms/step - loss: 4.0443e-05 - val_loss: 0.0083\n",
            "Epoch 85/100\n",
            "\u001b[1m17/17\u001b[0m \u001b[32m━━━━━━━━━━━━━━━━━━━━\u001b[0m\u001b[37m\u001b[0m \u001b[1m4s\u001b[0m 177ms/step - loss: 4.0118e-05 - val_loss: 0.0078\n",
            "Epoch 86/100\n",
            "\u001b[1m17/17\u001b[0m \u001b[32m━━━━━━━━━━━━━━━━━━━━\u001b[0m\u001b[37m\u001b[0m \u001b[1m3s\u001b[0m 178ms/step - loss: 3.2975e-05 - val_loss: 0.0086\n",
            "Epoch 87/100\n",
            "\u001b[1m17/17\u001b[0m \u001b[32m━━━━━━━━━━━━━━━━━━━━\u001b[0m\u001b[37m\u001b[0m \u001b[1m6s\u001b[0m 246ms/step - loss: 3.5683e-05 - val_loss: 0.0077\n",
            "Epoch 88/100\n",
            "\u001b[1m17/17\u001b[0m \u001b[32m━━━━━━━━━━━━━━━━━━━━\u001b[0m\u001b[37m\u001b[0m \u001b[1m4s\u001b[0m 179ms/step - loss: 3.6917e-05 - val_loss: 0.0069\n",
            "Epoch 89/100\n",
            "\u001b[1m17/17\u001b[0m \u001b[32m━━━━━━━━━━━━━━━━━━━━\u001b[0m\u001b[37m\u001b[0m \u001b[1m3s\u001b[0m 180ms/step - loss: 3.3402e-05 - val_loss: 0.0075\n",
            "Epoch 90/100\n",
            "\u001b[1m17/17\u001b[0m \u001b[32m━━━━━━━━━━━━━━━━━━━━\u001b[0m\u001b[37m\u001b[0m \u001b[1m3s\u001b[0m 183ms/step - loss: 3.4584e-05 - val_loss: 0.0064\n",
            "Epoch 91/100\n",
            "\u001b[1m17/17\u001b[0m \u001b[32m━━━━━━━━━━━━━━━━━━━━\u001b[0m\u001b[37m\u001b[0m \u001b[1m5s\u001b[0m 292ms/step - loss: 3.8059e-05 - val_loss: 0.0070\n",
            "Epoch 92/100\n",
            "\u001b[1m17/17\u001b[0m \u001b[32m━━━━━━━━━━━━━━━━━━━━\u001b[0m\u001b[37m\u001b[0m \u001b[1m3s\u001b[0m 180ms/step - loss: 3.8160e-05 - val_loss: 0.0087\n",
            "Epoch 93/100\n",
            "\u001b[1m17/17\u001b[0m \u001b[32m━━━━━━━━━━━━━━━━━━━━\u001b[0m\u001b[37m\u001b[0m \u001b[1m5s\u001b[0m 178ms/step - loss: 3.5473e-05 - val_loss: 0.0094\n",
            "Epoch 94/100\n",
            "\u001b[1m17/17\u001b[0m \u001b[32m━━━━━━━━━━━━━━━━━━━━\u001b[0m\u001b[37m\u001b[0m \u001b[1m6s\u001b[0m 251ms/step - loss: 3.5524e-05 - val_loss: 0.0077\n",
            "Epoch 95/100\n",
            "\u001b[1m17/17\u001b[0m \u001b[32m━━━━━━━━━━━━━━━━━━━━\u001b[0m\u001b[37m\u001b[0m \u001b[1m4s\u001b[0m 179ms/step - loss: 3.6540e-05 - val_loss: 0.0067\n",
            "Epoch 96/100\n",
            "\u001b[1m17/17\u001b[0m \u001b[32m━━━━━━━━━━━━━━━━━━━━\u001b[0m\u001b[37m\u001b[0m \u001b[1m5s\u001b[0m 186ms/step - loss: 3.8691e-05 - val_loss: 0.0082\n",
            "Epoch 97/100\n",
            "\u001b[1m17/17\u001b[0m \u001b[32m━━━━━━━━━━━━━━━━━━━━\u001b[0m\u001b[37m\u001b[0m \u001b[1m5s\u001b[0m 178ms/step - loss: 4.0718e-05 - val_loss: 0.0084\n",
            "Epoch 98/100\n",
            "\u001b[1m17/17\u001b[0m \u001b[32m━━━━━━━━━━━━━━━━━━━━\u001b[0m\u001b[37m\u001b[0m \u001b[1m5s\u001b[0m 177ms/step - loss: 4.3078e-05 - val_loss: 0.0079\n",
            "Epoch 99/100\n",
            "\u001b[1m17/17\u001b[0m \u001b[32m━━━━━━━━━━━━━━━━━━━━\u001b[0m\u001b[37m\u001b[0m \u001b[1m7s\u001b[0m 265ms/step - loss: 3.5341e-05 - val_loss: 0.0076\n",
            "Epoch 100/100\n",
            "\u001b[1m17/17\u001b[0m \u001b[32m━━━━━━━━━━━━━━━━━━━━\u001b[0m\u001b[37m\u001b[0m \u001b[1m4s\u001b[0m 180ms/step - loss: 3.7974e-05 - val_loss: 0.0118\n"
          ]
        },
        {
          "output_type": "execute_result",
          "data": {
            "text/plain": [
              "<keras.src.callbacks.history.History at 0x7ff944c452a0>"
            ]
          },
          "metadata": {},
          "execution_count": 56
        }
      ]
    },
    {
      "cell_type": "code",
      "source": [
        "train_predict=model.predict(X_train)\n",
        "test_predict=model.predict(X_test)"
      ],
      "metadata": {
        "colab": {
          "base_uri": "https://localhost:8080/"
        },
        "id": "ejUg8hReIlHd",
        "outputId": "d7130cd6-8a6a-45df-a33a-d0d8167e6974"
      },
      "execution_count": 58,
      "outputs": [
        {
          "output_type": "stream",
          "name": "stdout",
          "text": [
            "\u001b[1m33/33\u001b[0m \u001b[32m━━━━━━━━━━━━━━━━━━━━\u001b[0m\u001b[37m\u001b[0m \u001b[1m2s\u001b[0m 48ms/step\n",
            "\u001b[1m17/17\u001b[0m \u001b[32m━━━━━━━━━━━━━━━━━━━━\u001b[0m\u001b[37m\u001b[0m \u001b[1m1s\u001b[0m 55ms/step\n"
          ]
        }
      ]
    },
    {
      "cell_type": "code",
      "source": [
        "train_predict=scaler.inverse_transform(train_predict)\n",
        "test_predict=scaler.inverse_transform(test_predict)"
      ],
      "metadata": {
        "id": "tKDLai6TO6Bd"
      },
      "execution_count": 60,
      "outputs": []
    },
    {
      "cell_type": "code",
      "source": [
        "import math\n",
        "from sklearn.metrics import mean_squared_error\n",
        "math.sqrt(mean_squared_error(y_train,train_predict))"
      ],
      "metadata": {
        "colab": {
          "base_uri": "https://localhost:8080/"
        },
        "id": "ZwYLK3JSPNBp",
        "outputId": "765c4fb5-f607-4478-ed27-09af87c21b25"
      },
      "execution_count": 61,
      "outputs": [
        {
          "output_type": "execute_result",
          "data": {
            "text/plain": [
              "37.70604401747946"
            ]
          },
          "metadata": {},
          "execution_count": 61
        }
      ]
    },
    {
      "cell_type": "code",
      "source": [
        "math.sqrt(mean_squared_error(ytest,test_predict))"
      ],
      "metadata": {
        "colab": {
          "base_uri": "https://localhost:8080/"
        },
        "id": "SQuESd58Qooo",
        "outputId": "c2a2174c-112a-44f6-d76a-03dbf929dced"
      },
      "execution_count": 62,
      "outputs": [
        {
          "output_type": "execute_result",
          "data": {
            "text/plain": [
              "106.12288371985791"
            ]
          },
          "metadata": {},
          "execution_count": 62
        }
      ]
    },
    {
      "cell_type": "code",
      "source": [
        "look_back=100\n",
        "trainPredictPlot = numpy.empty_like(df1)\n",
        "trainPredictPlot[:, :] = np.nan\n",
        "trainPredictPlot[look_back:len(train_predict)+look_back, :] = train_predict\n",
        "# shift test predictions for plotting\n",
        "testPredictPlot = numpy.empty_like(df1)\n",
        "testPredictPlot[:, :] = numpy.nan\n",
        "testPredictPlot[len(train_predict)+(look_back*2)+1:len(df1)-1, :] = test_predict\n",
        "# plot baseline and predictions\n",
        "plt.plot(scaler.inverse_transform(df1))\n",
        "plt.plot(trainPredictPlot)\n",
        "plt.plot(testPredictPlot)\n",
        "plt.show()"
      ],
      "metadata": {
        "colab": {
          "base_uri": "https://localhost:8080/",
          "height": 430
        },
        "id": "NovWbmZGQz9K",
        "outputId": "46a50ecd-1d2e-477a-e0ba-8977db6dc9cc"
      },
      "execution_count": 67,
      "outputs": [
        {
          "output_type": "display_data",
          "data": {
            "text/plain": [
              "<Figure size 640x480 with 1 Axes>"
            ],
            "image/png": "[encoded data removed]"
          },
          "metadata": {}
        }
      ]
    },
    {
      "cell_type": "code",
      "source": [
        "x_input=test_data[522:].reshape(1,-1)\n",
        "x_input.shape\n"
      ],
      "metadata": {
        "colab": {
          "base_uri": "https://localhost:8080/"
        },
        "id": "_TcGKyaxTYoT",
        "outputId": "f2832f82-39ab-41c1-9516-bcf79f21269a"
      },
      "execution_count": 73,
      "outputs": [
        {
          "output_type": "execute_result",
          "data": {
            "text/plain": [
              "(1, 100)"
            ]
          },
          "metadata": {},
          "execution_count": 73
        }
      ]
    },
    {
      "cell_type": "code",
      "source": [
        "test_data.shape"
      ],
      "metadata": {
        "colab": {
          "base_uri": "https://localhost:8080/"
        },
        "id": "eM_aah_gTd6G",
        "outputId": "cd3b02cd-8343-4171-9703-1a1b4b01ab72"
      },
      "execution_count": 74,
      "outputs": [
        {
          "output_type": "execute_result",
          "data": {
            "text/plain": [
              "(622, 1)"
            ]
          },
          "metadata": {},
          "execution_count": 74
        }
      ]
    },
    {
      "cell_type": "code",
      "source": [
        "temp_input=list(x_input)\n",
        "temp_input=temp_input[0].tolist()\n",
        "temp_input\n"
      ],
      "metadata": {
        "colab": {
          "base_uri": "https://localhost:8080/"
        },
        "id": "z6l5fg4vUBox",
        "outputId": "cb405d8a-3aa4-420b-e218-ea45a6255b75"
      },
      "execution_count": 75,
      "outputs": [
        {
          "output_type": "execute_result",
          "data": {
            "text/plain": [
              "[0.8106947245265672,\n",
              " 0.8149600072319532,\n",
              " 0.8221107014291099,\n",
              " 0.8261879112389731,\n",
              " 0.8411792830957928,\n",
              " 0.8312686550486111,\n",
              " 0.8247452533487862,\n",
              " 0.7927552502128024,\n",
              " 0.7963933361322536,\n",
              " 0.7874235511196727,\n",
              " 0.7931315874266426,\n",
              " 0.7916261428598843,\n",
              " 0.7745021296503716,\n",
              " 0.7549318288394998,\n",
              " 0.7580053132267934,\n",
              " 0.7731849494019306,\n",
              " 0.7793320138879152,\n",
              " 0.7798965197086756,\n",
              " 0.7701740602684141,\n",
              " 0.7484711181048492,\n",
              " 0.7542418453769936,\n",
              " 0.7458993528617445,\n",
              " 0.7531127380240755,\n",
              " 0.7310961496118449,\n",
              " 0.7434530652603855,\n",
              " 0.7490356239256096,\n",
              " 0.7571271611573671,\n",
              " 0.7546808735560081,\n",
              " 0.7541163677352477,\n",
              " 0.7459620438269188,\n",
              " 0.7421985759771189,\n",
              " 0.7600752636143122,\n",
              " 0.7668496205976287,\n",
              " 0.7775757097490624,\n",
              " 0.7914379742529641,\n",
              " 0.7945742453168294,\n",
              " 0.7959542122418418,\n",
              " 0.7909989460739496,\n",
              " 0.7906852998252837,\n",
              " 0.7949506782420669,\n",
              " 0.7920025757851218,\n",
              " 0.8153364401571906,\n",
              " 0.7979614716641863,\n",
              " 0.792692559247628,\n",
              " 0.7993414385891987,\n",
              " 0.8085620831738741,\n",
              " 0.8052376435030888,\n",
              " 0.807244807214036,\n",
              " 0.8019758947974778,\n",
              " 0.8042967047570909,\n",
              " 0.786169061836406,\n",
              " 0.78585541558774,\n",
              " 0.7991532699822785,\n",
              " 0.7992159609474528,\n",
              " 0.8054885030751833,\n",
              " 0.821107167429335,\n",
              " 0.848580836865044,\n",
              " 0.8653912995372881,\n",
              " 0.8683394019942332,\n",
              " 0.8707856895955921,\n",
              " 0.8741101292663773,\n",
              " 0.8419319575234734,\n",
              " 0.8634468267915152,\n",
              " 0.8951858746440076,\n",
              " 0.8918614349732221,\n",
              " 0.8855261061689201,\n",
              " 0.8734828367690455,\n",
              " 0.8953113522857532,\n",
              " 0.9320683572713122,\n",
              " 0.9565313289962989,\n",
              " 0.9532695802906879,\n",
              " 0.9839423074668336,\n",
              " 0.9606712297713365,\n",
              " 0.9518269224005012,\n",
              " 0.9830014644322331,\n",
              " 0.9388427142546285,\n",
              " 0.9318174976992177,\n",
              " 0.9230986679701283,\n",
              " 0.9434217389200779,\n",
              " 0.9600439372740044,\n",
              " 0.9640583604072961,\n",
              " 0.9894621751668835,\n",
              " 0.9829386777556615,\n",
              " 0.9835032792878191,\n",
              " 0.9761016298071707,\n",
              " 0.9721499933504507,\n",
              " 1.0,\n",
              " 0.9855104429987664,\n",
              " 0.9555276992851267,\n",
              " 0.9372118877575217,\n",
              " 0.9382782084338681,\n",
              " 0.938403686075614,\n",
              " 0.9565313289962989,\n",
              " 0.9593539538114981,\n",
              " 0.938403686075614,\n",
              " 0.9439235537756638,\n",
              " 0.9234123142187942,\n",
              " 0.9010192928813261,\n",
              " 0.8902305127647181,\n",
              " 0.8770582317233224]"
            ]
          },
          "metadata": {},
          "execution_count": 75
        }
      ]
    },
    {
      "cell_type": "code",
      "source": [
        "# demonstrate prediction for next 10 days\n",
        "from numpy import array\n",
        "\n",
        "lst_output=[]\n",
        "n_steps=100\n",
        "i=0\n",
        "while(i<30):\n",
        "\n",
        "    if(len(temp_input)>100):\n",
        "        #print(temp_input)\n",
        "        x_input=np.array(temp_input[1:])\n",
        "        print(\"{} day input {}\".format(i,x_input))\n",
        "        x_input=x_input.reshape(1,-1)\n",
        "        x_input = x_input.reshape((1, n_steps, 1))\n",
        "        #print(x_input)\n",
        "        yhat = model.predict(x_input, verbose=0)\n",
        "        print(\"{} day output {}\".format(i,yhat))\n",
        "        temp_input.extend(yhat[0].tolist())\n",
        "        temp_input=temp_input[1:]\n",
        "        #print(temp_input)\n",
        "        lst_output.extend(yhat.tolist())\n",
        "        i=i+1\n",
        "    else:\n",
        "        x_input = x_input.reshape((1, n_steps,1))\n",
        "        yhat = model.predict(x_input, verbose=0)\n",
        "        print(yhat[0])\n",
        "        temp_input.extend(yhat[0].tolist())\n",
        "        print(len(temp_input))\n",
        "        lst_output.extend(yhat.tolist())\n",
        "        i=i+1\n",
        "\n",
        "\n",
        "print(lst_output)"
      ],
      "metadata": {
        "colab": {
          "base_uri": "https://localhost:8080/"
        },
        "id": "S5mF5DBnRaV-",
        "outputId": "fee33fb0-a739-4ef5-e361-809e0fe2a5e1"
      },
      "execution_count": 76,
      "outputs": [
        {
          "output_type": "stream",
          "name": "stdout",
          "text": [
            "[0.66928667]\n",
            "101\n",
            "1 day input [0.81496001 0.8221107  0.82618791 0.84117928 0.83126866 0.82474525\n",
            " 0.79275525 0.79639334 0.78742355 0.79313159 0.79162614 0.77450213\n",
            " 0.75493183 0.75800531 0.77318495 0.77933201 0.77989652 0.77017406\n",
            " 0.74847112 0.75424185 0.74589935 0.75311274 0.73109615 0.74345307\n",
            " 0.74903562 0.75712716 0.75468087 0.75411637 0.74596204 0.74219858\n",
            " 0.76007526 0.76684962 0.77757571 0.79143797 0.79457425 0.79595421\n",
            " 0.79099895 0.7906853  0.79495068 0.79200258 0.81533644 0.79796147\n",
            " 0.79269256 0.79934144 0.80856208 0.80523764 0.80724481 0.80197589\n",
            " 0.8042967  0.78616906 0.78585542 0.79915327 0.79921596 0.8054885\n",
            " 0.82110717 0.84858084 0.8653913  0.8683394  0.87078569 0.87411013\n",
            " 0.84193196 0.86344683 0.89518587 0.89186143 0.88552611 0.87348284\n",
            " 0.89531135 0.93206836 0.95653133 0.95326958 0.98394231 0.96067123\n",
            " 0.95182692 0.98300146 0.93884271 0.9318175  0.92309867 0.94342174\n",
            " 0.96004394 0.96405836 0.98946218 0.98293868 0.98350328 0.97610163\n",
            " 0.97214999 1.         0.98551044 0.9555277  0.93721189 0.93827821\n",
            " 0.93840369 0.95653133 0.95935395 0.93840369 0.94392355 0.92341231\n",
            " 0.90101929 0.89023051 0.87705823 0.66928667]\n",
            "1 day output [[0.60054773]]\n",
            "2 day input [0.8221107  0.82618791 0.84117928 0.83126866 0.82474525 0.79275525\n",
            " 0.79639334 0.78742355 0.79313159 0.79162614 0.77450213 0.75493183\n",
            " 0.75800531 0.77318495 0.77933201 0.77989652 0.77017406 0.74847112\n",
            " 0.75424185 0.74589935 0.75311274 0.73109615 0.74345307 0.74903562\n",
            " 0.75712716 0.75468087 0.75411637 0.74596204 0.74219858 0.76007526\n",
            " 0.76684962 0.77757571 0.79143797 0.79457425 0.79595421 0.79099895\n",
            " 0.7906853  0.79495068 0.79200258 0.81533644 0.79796147 0.79269256\n",
            " 0.79934144 0.80856208 0.80523764 0.80724481 0.80197589 0.8042967\n",
            " 0.78616906 0.78585542 0.79915327 0.79921596 0.8054885  0.82110717\n",
            " 0.84858084 0.8653913  0.8683394  0.87078569 0.87411013 0.84193196\n",
            " 0.86344683 0.89518587 0.89186143 0.88552611 0.87348284 0.89531135\n",
            " 0.93206836 0.95653133 0.95326958 0.98394231 0.96067123 0.95182692\n",
            " 0.98300146 0.93884271 0.9318175  0.92309867 0.94342174 0.96004394\n",
            " 0.96405836 0.98946218 0.98293868 0.98350328 0.97610163 0.97214999\n",
            " 1.         0.98551044 0.9555277  0.93721189 0.93827821 0.93840369\n",
            " 0.95653133 0.95935395 0.93840369 0.94392355 0.92341231 0.90101929\n",
            " 0.89023051 0.87705823 0.66928667 0.60054773]\n",
            "2 day output [[0.49735802]]\n",
            "3 day input [0.82618791 0.84117928 0.83126866 0.82474525 0.79275525 0.79639334\n",
            " 0.78742355 0.79313159 0.79162614 0.77450213 0.75493183 0.75800531\n",
            " 0.77318495 0.77933201 0.77989652 0.77017406 0.74847112 0.75424185\n",
            " 0.74589935 0.75311274 0.73109615 0.74345307 0.74903562 0.75712716\n",
            " 0.75468087 0.75411637 0.74596204 0.74219858 0.76007526 0.76684962\n",
            " 0.77757571 0.79143797 0.79457425 0.79595421 0.79099895 0.7906853\n",
            " 0.79495068 0.79200258 0.81533644 0.79796147 0.79269256 0.79934144\n",
            " 0.80856208 0.80523764 0.80724481 0.80197589 0.8042967  0.78616906\n",
            " 0.78585542 0.79915327 0.79921596 0.8054885  0.82110717 0.84858084\n",
            " 0.8653913  0.8683394  0.87078569 0.87411013 0.84193196 0.86344683\n",
            " 0.89518587 0.89186143 0.88552611 0.87348284 0.89531135 0.93206836\n",
            " 0.95653133 0.95326958 0.98394231 0.96067123 0.95182692 0.98300146\n",
            " 0.93884271 0.9318175  0.92309867 0.94342174 0.96004394 0.96405836\n",
            " 0.98946218 0.98293868 0.98350328 0.97610163 0.97214999 1.\n",
            " 0.98551044 0.9555277  0.93721189 0.93827821 0.93840369 0.95653133\n",
            " 0.95935395 0.93840369 0.94392355 0.92341231 0.90101929 0.89023051\n",
            " 0.87705823 0.66928667 0.60054773 0.49735802]\n",
            "3 day output [[0.3792444]]\n",
            "4 day input [0.84117928 0.83126866 0.82474525 0.79275525 0.79639334 0.78742355\n",
            " 0.79313159 0.79162614 0.77450213 0.75493183 0.75800531 0.77318495\n",
            " 0.77933201 0.77989652 0.77017406 0.74847112 0.75424185 0.74589935\n",
            " 0.75311274 0.73109615 0.74345307 0.74903562 0.75712716 0.75468087\n",
            " 0.75411637 0.74596204 0.74219858 0.76007526 0.76684962 0.77757571\n",
            " 0.79143797 0.79457425 0.79595421 0.79099895 0.7906853  0.79495068\n",
            " 0.79200258 0.81533644 0.79796147 0.79269256 0.79934144 0.80856208\n",
            " 0.80523764 0.80724481 0.80197589 0.8042967  0.78616906 0.78585542\n",
            " 0.79915327 0.79921596 0.8054885  0.82110717 0.84858084 0.8653913\n",
            " 0.8683394  0.87078569 0.87411013 0.84193196 0.86344683 0.89518587\n",
            " 0.89186143 0.88552611 0.87348284 0.89531135 0.93206836 0.95653133\n",
            " 0.95326958 0.98394231 0.96067123 0.95182692 0.98300146 0.93884271\n",
            " 0.9318175  0.92309867 0.94342174 0.96004394 0.96405836 0.98946218\n",
            " 0.98293868 0.98350328 0.97610163 0.97214999 1.         0.98551044\n",
            " 0.9555277  0.93721189 0.93827821 0.93840369 0.95653133 0.95935395\n",
            " 0.93840369 0.94392355 0.92341231 0.90101929 0.89023051 0.87705823\n",
            " 0.66928667 0.60054773 0.49735802 0.37924439]\n",
            "4 day output [[0.26159406]]\n",
            "5 day input [0.83126866 0.82474525 0.79275525 0.79639334 0.78742355 0.79313159\n",
            " 0.79162614 0.77450213 0.75493183 0.75800531 0.77318495 0.77933201\n",
            " 0.77989652 0.77017406 0.74847112 0.75424185 0.74589935 0.75311274\n",
            " 0.73109615 0.74345307 0.74903562 0.75712716 0.75468087 0.75411637\n",
            " 0.74596204 0.74219858 0.76007526 0.76684962 0.77757571 0.79143797\n",
            " 0.79457425 0.79595421 0.79099895 0.7906853  0.79495068 0.79200258\n",
            " 0.81533644 0.79796147 0.79269256 0.79934144 0.80856208 0.80523764\n",
            " 0.80724481 0.80197589 0.8042967  0.78616906 0.78585542 0.79915327\n",
            " 0.79921596 0.8054885  0.82110717 0.84858084 0.8653913  0.8683394\n",
            " 0.87078569 0.87411013 0.84193196 0.86344683 0.89518587 0.89186143\n",
            " 0.88552611 0.87348284 0.89531135 0.93206836 0.95653133 0.95326958\n",
            " 0.98394231 0.96067123 0.95182692 0.98300146 0.93884271 0.9318175\n",
            " 0.92309867 0.94342174 0.96004394 0.96405836 0.98946218 0.98293868\n",
            " 0.98350328 0.97610163 0.97214999 1.         0.98551044 0.9555277\n",
            " 0.93721189 0.93827821 0.93840369 0.95653133 0.95935395 0.93840369\n",
            " 0.94392355 0.92341231 0.90101929 0.89023051 0.87705823 0.66928667\n",
            " 0.60054773 0.49735802 0.37924439 0.26159406]\n",
            "5 day output [[0.15452577]]\n",
            "6 day input [0.82474525 0.79275525 0.79639334 0.78742355 0.79313159 0.79162614\n",
            " 0.77450213 0.75493183 0.75800531 0.77318495 0.77933201 0.77989652\n",
            " 0.77017406 0.74847112 0.75424185 0.74589935 0.75311274 0.73109615\n",
            " 0.74345307 0.74903562 0.75712716 0.75468087 0.75411637 0.74596204\n",
            " 0.74219858 0.76007526 0.76684962 0.77757571 0.79143797 0.79457425\n",
            " 0.79595421 0.79099895 0.7906853  0.79495068 0.79200258 0.81533644\n",
            " 0.79796147 0.79269256 0.79934144 0.80856208 0.80523764 0.80724481\n",
            " 0.80197589 0.8042967  0.78616906 0.78585542 0.79915327 0.79921596\n",
            " 0.8054885  0.82110717 0.84858084 0.8653913  0.8683394  0.87078569\n",
            " 0.87411013 0.84193196 0.86344683 0.89518587 0.89186143 0.88552611\n",
            " 0.87348284 0.89531135 0.93206836 0.95653133 0.95326958 0.98394231\n",
            " 0.96067123 0.95182692 0.98300146 0.93884271 0.9318175  0.92309867\n",
            " 0.94342174 0.96004394 0.96405836 0.98946218 0.98293868 0.98350328\n",
            " 0.97610163 0.97214999 1.         0.98551044 0.9555277  0.93721189\n",
            " 0.93827821 0.93840369 0.95653133 0.95935395 0.93840369 0.94392355\n",
            " 0.92341231 0.90101929 0.89023051 0.87705823 0.66928667 0.60054773\n",
            " 0.49735802 0.37924439 0.26159406 0.15452577]\n",
            "6 day output [[0.06336754]]\n",
            "7 day input [0.79275525 0.79639334 0.78742355 0.79313159 0.79162614 0.77450213\n",
            " 0.75493183 0.75800531 0.77318495 0.77933201 0.77989652 0.77017406\n",
            " 0.74847112 0.75424185 0.74589935 0.75311274 0.73109615 0.74345307\n",
            " 0.74903562 0.75712716 0.75468087 0.75411637 0.74596204 0.74219858\n",
            " 0.76007526 0.76684962 0.77757571 0.79143797 0.79457425 0.79595421\n",
            " 0.79099895 0.7906853  0.79495068 0.79200258 0.81533644 0.79796147\n",
            " 0.79269256 0.79934144 0.80856208 0.80523764 0.80724481 0.80197589\n",
            " 0.8042967  0.78616906 0.78585542 0.79915327 0.79921596 0.8054885\n",
            " 0.82110717 0.84858084 0.8653913  0.8683394  0.87078569 0.87411013\n",
            " 0.84193196 0.86344683 0.89518587 0.89186143 0.88552611 0.87348284\n",
            " 0.89531135 0.93206836 0.95653133 0.95326958 0.98394231 0.96067123\n",
            " 0.95182692 0.98300146 0.93884271 0.9318175  0.92309867 0.94342174\n",
            " 0.96004394 0.96405836 0.98946218 0.98293868 0.98350328 0.97610163\n",
            " 0.97214999 1.         0.98551044 0.9555277  0.93721189 0.93827821\n",
            " 0.93840369 0.95653133 0.95935395 0.93840369 0.94392355 0.92341231\n",
            " 0.90101929 0.89023051 0.87705823 0.66928667 0.60054773 0.49735802\n",
            " 0.37924439 0.26159406 0.15452577 0.06336754]\n",
            "7 day output [[-0.01019942]]\n",
            "8 day input [ 0.79639334  0.78742355  0.79313159  0.79162614  0.77450213  0.75493183\n",
            "  0.75800531  0.77318495  0.77933201  0.77989652  0.77017406  0.74847112\n",
            "  0.75424185  0.74589935  0.75311274  0.73109615  0.74345307  0.74903562\n",
            "  0.75712716  0.75468087  0.75411637  0.74596204  0.74219858  0.76007526\n",
            "  0.76684962  0.77757571  0.79143797  0.79457425  0.79595421  0.79099895\n",
            "  0.7906853   0.79495068  0.79200258  0.81533644  0.79796147  0.79269256\n",
            "  0.79934144  0.80856208  0.80523764  0.80724481  0.80197589  0.8042967\n",
            "  0.78616906  0.78585542  0.79915327  0.79921596  0.8054885   0.82110717\n",
            "  0.84858084  0.8653913   0.8683394   0.87078569  0.87411013  0.84193196\n",
            "  0.86344683  0.89518587  0.89186143  0.88552611  0.87348284  0.89531135\n",
            "  0.93206836  0.95653133  0.95326958  0.98394231  0.96067123  0.95182692\n",
            "  0.98300146  0.93884271  0.9318175   0.92309867  0.94342174  0.96004394\n",
            "  0.96405836  0.98946218  0.98293868  0.98350328  0.97610163  0.97214999\n",
            "  1.          0.98551044  0.9555277   0.93721189  0.93827821  0.93840369\n",
            "  0.95653133  0.95935395  0.93840369  0.94392355  0.92341231  0.90101929\n",
            "  0.89023051  0.87705823  0.66928667  0.60054773  0.49735802  0.37924439\n",
            "  0.26159406  0.15452577  0.06336754 -0.01019942]\n",
            "8 day output [[-0.06666896]]\n",
            "9 day input [ 0.78742355  0.79313159  0.79162614  0.77450213  0.75493183  0.75800531\n",
            "  0.77318495  0.77933201  0.77989652  0.77017406  0.74847112  0.75424185\n",
            "  0.74589935  0.75311274  0.73109615  0.74345307  0.74903562  0.75712716\n",
            "  0.75468087  0.75411637  0.74596204  0.74219858  0.76007526  0.76684962\n",
            "  0.77757571  0.79143797  0.79457425  0.79595421  0.79099895  0.7906853\n",
            "  0.79495068  0.79200258  0.81533644  0.79796147  0.79269256  0.79934144\n",
            "  0.80856208  0.80523764  0.80724481  0.80197589  0.8042967   0.78616906\n",
            "  0.78585542  0.79915327  0.79921596  0.8054885   0.82110717  0.84858084\n",
            "  0.8653913   0.8683394   0.87078569  0.87411013  0.84193196  0.86344683\n",
            "  0.89518587  0.89186143  0.88552611  0.87348284  0.89531135  0.93206836\n",
            "  0.95653133  0.95326958  0.98394231  0.96067123  0.95182692  0.98300146\n",
            "  0.93884271  0.9318175   0.92309867  0.94342174  0.96004394  0.96405836\n",
            "  0.98946218  0.98293868  0.98350328  0.97610163  0.97214999  1.\n",
            "  0.98551044  0.9555277   0.93721189  0.93827821  0.93840369  0.95653133\n",
            "  0.95935395  0.93840369  0.94392355  0.92341231  0.90101929  0.89023051\n",
            "  0.87705823  0.66928667  0.60054773  0.49735802  0.37924439  0.26159406\n",
            "  0.15452577  0.06336754 -0.01019942 -0.06666896]\n",
            "9 day output [[-0.10764458]]\n",
            "10 day input [ 0.79313159  0.79162614  0.77450213  0.75493183  0.75800531  0.77318495\n",
            "  0.77933201  0.77989652  0.77017406  0.74847112  0.75424185  0.74589935\n",
            "  0.75311274  0.73109615  0.74345307  0.74903562  0.75712716  0.75468087\n",
            "  0.75411637  0.74596204  0.74219858  0.76007526  0.76684962  0.77757571\n",
            "  0.79143797  0.79457425  0.79595421  0.79099895  0.7906853   0.79495068\n",
            "  0.79200258  0.81533644  0.79796147  0.79269256  0.79934144  0.80856208\n",
            "  0.80523764  0.80724481  0.80197589  0.8042967   0.78616906  0.78585542\n",
            "  0.79915327  0.79921596  0.8054885   0.82110717  0.84858084  0.8653913\n",
            "  0.8683394   0.87078569  0.87411013  0.84193196  0.86344683  0.89518587\n",
            "  0.89186143  0.88552611  0.87348284  0.89531135  0.93206836  0.95653133\n",
            "  0.95326958  0.98394231  0.96067123  0.95182692  0.98300146  0.93884271\n",
            "  0.9318175   0.92309867  0.94342174  0.96004394  0.96405836  0.98946218\n",
            "  0.98293868  0.98350328  0.97610163  0.97214999  1.          0.98551044\n",
            "  0.9555277   0.93721189  0.93827821  0.93840369  0.95653133  0.95935395\n",
            "  0.93840369  0.94392355  0.92341231  0.90101929  0.89023051  0.87705823\n",
            "  0.66928667  0.60054773  0.49735802  0.37924439  0.26159406  0.15452577\n",
            "  0.06336754 -0.01019942 -0.06666896 -0.10764458]\n",
            "10 day output [[-0.13534275]]\n",
            "11 day input [ 0.79162614  0.77450213  0.75493183  0.75800531  0.77318495  0.77933201\n",
            "  0.77989652  0.77017406  0.74847112  0.75424185  0.74589935  0.75311274\n",
            "  0.73109615  0.74345307  0.74903562  0.75712716  0.75468087  0.75411637\n",
            "  0.74596204  0.74219858  0.76007526  0.76684962  0.77757571  0.79143797\n",
            "  0.79457425  0.79595421  0.79099895  0.7906853   0.79495068  0.79200258\n",
            "  0.81533644  0.79796147  0.79269256  0.79934144  0.80856208  0.80523764\n",
            "  0.80724481  0.80197589  0.8042967   0.78616906  0.78585542  0.79915327\n",
            "  0.79921596  0.8054885   0.82110717  0.84858084  0.8653913   0.8683394\n",
            "  0.87078569  0.87411013  0.84193196  0.86344683  0.89518587  0.89186143\n",
            "  0.88552611  0.87348284  0.89531135  0.93206836  0.95653133  0.95326958\n",
            "  0.98394231  0.96067123  0.95182692  0.98300146  0.93884271  0.9318175\n",
            "  0.92309867  0.94342174  0.96004394  0.96405836  0.98946218  0.98293868\n",
            "  0.98350328  0.97610163  0.97214999  1.          0.98551044  0.9555277\n",
            "  0.93721189  0.93827821  0.93840369  0.95653133  0.95935395  0.93840369\n",
            "  0.94392355  0.92341231  0.90101929  0.89023051  0.87705823  0.66928667\n",
            "  0.60054773  0.49735802  0.37924439  0.26159406  0.15452577  0.06336754\n",
            " -0.01019942 -0.06666896 -0.10764458 -0.13534275]\n",
            "11 day output [[-0.15230976]]\n",
            "12 day input [ 0.77450213  0.75493183  0.75800531  0.77318495  0.77933201  0.77989652\n",
            "  0.77017406  0.74847112  0.75424185  0.74589935  0.75311274  0.73109615\n",
            "  0.74345307  0.74903562  0.75712716  0.75468087  0.75411637  0.74596204\n",
            "  0.74219858  0.76007526  0.76684962  0.77757571  0.79143797  0.79457425\n",
            "  0.79595421  0.79099895  0.7906853   0.79495068  0.79200258  0.81533644\n",
            "  0.79796147  0.79269256  0.79934144  0.80856208  0.80523764  0.80724481\n",
            "  0.80197589  0.8042967   0.78616906  0.78585542  0.79915327  0.79921596\n",
            "  0.8054885   0.82110717  0.84858084  0.8653913   0.8683394   0.87078569\n",
            "  0.87411013  0.84193196  0.86344683  0.89518587  0.89186143  0.88552611\n",
            "  0.87348284  0.89531135  0.93206836  0.95653133  0.95326958  0.98394231\n",
            "  0.96067123  0.95182692  0.98300146  0.93884271  0.9318175   0.92309867\n",
            "  0.94342174  0.96004394  0.96405836  0.98946218  0.98293868  0.98350328\n",
            "  0.97610163  0.97214999  1.          0.98551044  0.9555277   0.93721189\n",
            "  0.93827821  0.93840369  0.95653133  0.95935395  0.93840369  0.94392355\n",
            "  0.92341231  0.90101929  0.89023051  0.87705823  0.66928667  0.60054773\n",
            "  0.49735802  0.37924439  0.26159406  0.15452577  0.06336754 -0.01019942\n",
            " -0.06666896 -0.10764458 -0.13534275 -0.15230976]\n",
            "12 day output [[-0.16113459]]\n",
            "13 day input [ 0.75493183  0.75800531  0.77318495  0.77933201  0.77989652  0.77017406\n",
            "  0.74847112  0.75424185  0.74589935  0.75311274  0.73109615  0.74345307\n",
            "  0.74903562  0.75712716  0.75468087  0.75411637  0.74596204  0.74219858\n",
            "  0.76007526  0.76684962  0.77757571  0.79143797  0.79457425  0.79595421\n",
            "  0.79099895  0.7906853   0.79495068  0.79200258  0.81533644  0.79796147\n",
            "  0.79269256  0.79934144  0.80856208  0.80523764  0.80724481  0.80197589\n",
            "  0.8042967   0.78616906  0.78585542  0.79915327  0.79921596  0.8054885\n",
            "  0.82110717  0.84858084  0.8653913   0.8683394   0.87078569  0.87411013\n",
            "  0.84193196  0.86344683  0.89518587  0.89186143  0.88552611  0.87348284\n",
            "  0.89531135  0.93206836  0.95653133  0.95326958  0.98394231  0.96067123\n",
            "  0.95182692  0.98300146  0.93884271  0.9318175   0.92309867  0.94342174\n",
            "  0.96004394  0.96405836  0.98946218  0.98293868  0.98350328  0.97610163\n",
            "  0.97214999  1.          0.98551044  0.9555277   0.93721189  0.93827821\n",
            "  0.93840369  0.95653133  0.95935395  0.93840369  0.94392355  0.92341231\n",
            "  0.90101929  0.89023051  0.87705823  0.66928667  0.60054773  0.49735802\n",
            "  0.37924439  0.26159406  0.15452577  0.06336754 -0.01019942 -0.06666896\n",
            " -0.10764458 -0.13534275 -0.15230976 -0.16113459]\n",
            "13 day output [[-0.164203]]\n",
            "14 day input [ 0.75800531  0.77318495  0.77933201  0.77989652  0.77017406  0.74847112\n",
            "  0.75424185  0.74589935  0.75311274  0.73109615  0.74345307  0.74903562\n",
            "  0.75712716  0.75468087  0.75411637  0.74596204  0.74219858  0.76007526\n",
            "  0.76684962  0.77757571  0.79143797  0.79457425  0.79595421  0.79099895\n",
            "  0.7906853   0.79495068  0.79200258  0.81533644  0.79796147  0.79269256\n",
            "  0.79934144  0.80856208  0.80523764  0.80724481  0.80197589  0.8042967\n",
            "  0.78616906  0.78585542  0.79915327  0.79921596  0.8054885   0.82110717\n",
            "  0.84858084  0.8653913   0.8683394   0.87078569  0.87411013  0.84193196\n",
            "  0.86344683  0.89518587  0.89186143  0.88552611  0.87348284  0.89531135\n",
            "  0.93206836  0.95653133  0.95326958  0.98394231  0.96067123  0.95182692\n",
            "  0.98300146  0.93884271  0.9318175   0.92309867  0.94342174  0.96004394\n",
            "  0.96405836  0.98946218  0.98293868  0.98350328  0.97610163  0.97214999\n",
            "  1.          0.98551044  0.9555277   0.93721189  0.93827821  0.93840369\n",
            "  0.95653133  0.95935395  0.93840369  0.94392355  0.92341231  0.90101929\n",
            "  0.89023051  0.87705823  0.66928667  0.60054773  0.49735802  0.37924439\n",
            "  0.26159406  0.15452577  0.06336754 -0.01019942 -0.06666896 -0.10764458\n",
            " -0.13534275 -0.15230976 -0.16113459 -0.164203  ]\n",
            "14 day output [[-0.16356708]]\n",
            "15 day input [ 0.77318495  0.77933201  0.77989652  0.77017406  0.74847112  0.75424185\n",
            "  0.74589935  0.75311274  0.73109615  0.74345307  0.74903562  0.75712716\n",
            "  0.75468087  0.75411637  0.74596204  0.74219858  0.76007526  0.76684962\n",
            "  0.77757571  0.79143797  0.79457425  0.79595421  0.79099895  0.7906853\n",
            "  0.79495068  0.79200258  0.81533644  0.79796147  0.79269256  0.79934144\n",
            "  0.80856208  0.80523764  0.80724481  0.80197589  0.8042967   0.78616906\n",
            "  0.78585542  0.79915327  0.79921596  0.8054885   0.82110717  0.84858084\n",
            "  0.8653913   0.8683394   0.87078569  0.87411013  0.84193196  0.86344683\n",
            "  0.89518587  0.89186143  0.88552611  0.87348284  0.89531135  0.93206836\n",
            "  0.95653133  0.95326958  0.98394231  0.96067123  0.95182692  0.98300146\n",
            "  0.93884271  0.9318175   0.92309867  0.94342174  0.96004394  0.96405836\n",
            "  0.98946218  0.98293868  0.98350328  0.97610163  0.97214999  1.\n",
            "  0.98551044  0.9555277   0.93721189  0.93827821  0.93840369  0.95653133\n",
            "  0.95935395  0.93840369  0.94392355  0.92341231  0.90101929  0.89023051\n",
            "  0.87705823  0.66928667  0.60054773  0.49735802  0.37924439  0.26159406\n",
            "  0.15452577  0.06336754 -0.01019942 -0.06666896 -0.10764458 -0.13534275\n",
            " -0.15230976 -0.16113459 -0.164203   -0.16356708]\n",
            "15 day output [[-0.16091388]]\n",
            "16 day input [ 0.77933201  0.77989652  0.77017406  0.74847112  0.75424185  0.74589935\n",
            "  0.75311274  0.73109615  0.74345307  0.74903562  0.75712716  0.75468087\n",
            "  0.75411637  0.74596204  0.74219858  0.76007526  0.76684962  0.77757571\n",
            "  0.79143797  0.79457425  0.79595421  0.79099895  0.7906853   0.79495068\n",
            "  0.79200258  0.81533644  0.79796147  0.79269256  0.79934144  0.80856208\n",
            "  0.80523764  0.80724481  0.80197589  0.8042967   0.78616906  0.78585542\n",
            "  0.79915327  0.79921596  0.8054885   0.82110717  0.84858084  0.8653913\n",
            "  0.8683394   0.87078569  0.87411013  0.84193196  0.86344683  0.89518587\n",
            "  0.89186143  0.88552611  0.87348284  0.89531135  0.93206836  0.95653133\n",
            "  0.95326958  0.98394231  0.96067123  0.95182692  0.98300146  0.93884271\n",
            "  0.9318175   0.92309867  0.94342174  0.96004394  0.96405836  0.98946218\n",
            "  0.98293868  0.98350328  0.97610163  0.97214999  1.          0.98551044\n",
            "  0.9555277   0.93721189  0.93827821  0.93840369  0.95653133  0.95935395\n",
            "  0.93840369  0.94392355  0.92341231  0.90101929  0.89023051  0.87705823\n",
            "  0.66928667  0.60054773  0.49735802  0.37924439  0.26159406  0.15452577\n",
            "  0.06336754 -0.01019942 -0.06666896 -0.10764458 -0.13534275 -0.15230976\n",
            " -0.16113459 -0.164203   -0.16356708 -0.16091388]\n",
            "16 day output [[-0.15757498]]\n",
            "17 day input [ 0.77989652  0.77017406  0.74847112  0.75424185  0.74589935  0.75311274\n",
            "  0.73109615  0.74345307  0.74903562  0.75712716  0.75468087  0.75411637\n",
            "  0.74596204  0.74219858  0.76007526  0.76684962  0.77757571  0.79143797\n",
            "  0.79457425  0.79595421  0.79099895  0.7906853   0.79495068  0.79200258\n",
            "  0.81533644  0.79796147  0.79269256  0.79934144  0.80856208  0.80523764\n",
            "  0.80724481  0.80197589  0.8042967   0.78616906  0.78585542  0.79915327\n",
            "  0.79921596  0.8054885   0.82110717  0.84858084  0.8653913   0.8683394\n",
            "  0.87078569  0.87411013  0.84193196  0.86344683  0.89518587  0.89186143\n",
            "  0.88552611  0.87348284  0.89531135  0.93206836  0.95653133  0.95326958\n",
            "  0.98394231  0.96067123  0.95182692  0.98300146  0.93884271  0.9318175\n",
            "  0.92309867  0.94342174  0.96004394  0.96405836  0.98946218  0.98293868\n",
            "  0.98350328  0.97610163  0.97214999  1.          0.98551044  0.9555277\n",
            "  0.93721189  0.93827821  0.93840369  0.95653133  0.95935395  0.93840369\n",
            "  0.94392355  0.92341231  0.90101929  0.89023051  0.87705823  0.66928667\n",
            "  0.60054773  0.49735802  0.37924439  0.26159406  0.15452577  0.06336754\n",
            " -0.01019942 -0.06666896 -0.10764458 -0.13534275 -0.15230976 -0.16113459\n",
            " -0.164203   -0.16356708 -0.16091388 -0.15757498]\n",
            "17 day output [[-0.15454233]]\n",
            "18 day input [ 0.77017406  0.74847112  0.75424185  0.74589935  0.75311274  0.73109615\n",
            "  0.74345307  0.74903562  0.75712716  0.75468087  0.75411637  0.74596204\n",
            "  0.74219858  0.76007526  0.76684962  0.77757571  0.79143797  0.79457425\n",
            "  0.79595421  0.79099895  0.7906853   0.79495068  0.79200258  0.81533644\n",
            "  0.79796147  0.79269256  0.79934144  0.80856208  0.80523764  0.80724481\n",
            "  0.80197589  0.8042967   0.78616906  0.78585542  0.79915327  0.79921596\n",
            "  0.8054885   0.82110717  0.84858084  0.8653913   0.8683394   0.87078569\n",
            "  0.87411013  0.84193196  0.86344683  0.89518587  0.89186143  0.88552611\n",
            "  0.87348284  0.89531135  0.93206836  0.95653133  0.95326958  0.98394231\n",
            "  0.96067123  0.95182692  0.98300146  0.93884271  0.9318175   0.92309867\n",
            "  0.94342174  0.96004394  0.96405836  0.98946218  0.98293868  0.98350328\n",
            "  0.97610163  0.97214999  1.          0.98551044  0.9555277   0.93721189\n",
            "  0.93827821  0.93840369  0.95653133  0.95935395  0.93840369  0.94392355\n",
            "  0.92341231  0.90101929  0.89023051  0.87705823  0.66928667  0.60054773\n",
            "  0.49735802  0.37924439  0.26159406  0.15452577  0.06336754 -0.01019942\n",
            " -0.06666896 -0.10764458 -0.13534275 -0.15230976 -0.16113459 -0.164203\n",
            " -0.16356708 -0.16091388 -0.15757498 -0.15454233]\n",
            "18 day output [[-0.15248361]]\n",
            "19 day input [ 0.74847112  0.75424185  0.74589935  0.75311274  0.73109615  0.74345307\n",
            "  0.74903562  0.75712716  0.75468087  0.75411637  0.74596204  0.74219858\n",
            "  0.76007526  0.76684962  0.77757571  0.79143797  0.79457425  0.79595421\n",
            "  0.79099895  0.7906853   0.79495068  0.79200258  0.81533644  0.79796147\n",
            "  0.79269256  0.79934144  0.80856208  0.80523764  0.80724481  0.80197589\n",
            "  0.8042967   0.78616906  0.78585542  0.79915327  0.79921596  0.8054885\n",
            "  0.82110717  0.84858084  0.8653913   0.8683394   0.87078569  0.87411013\n",
            "  0.84193196  0.86344683  0.89518587  0.89186143  0.88552611  0.87348284\n",
            "  0.89531135  0.93206836  0.95653133  0.95326958  0.98394231  0.96067123\n",
            "  0.95182692  0.98300146  0.93884271  0.9318175   0.92309867  0.94342174\n",
            "  0.96004394  0.96405836  0.98946218  0.98293868  0.98350328  0.97610163\n",
            "  0.97214999  1.          0.98551044  0.9555277   0.93721189  0.93827821\n",
            "  0.93840369  0.95653133  0.95935395  0.93840369  0.94392355  0.92341231\n",
            "  0.90101929  0.89023051  0.87705823  0.66928667  0.60054773  0.49735802\n",
            "  0.37924439  0.26159406  0.15452577  0.06336754 -0.01019942 -0.06666896\n",
            " -0.10764458 -0.13534275 -0.15230976 -0.16113459 -0.164203   -0.16356708\n",
            " -0.16091388 -0.15757498 -0.15454233 -0.15248361]\n",
            "19 day output [[-0.15176746]]\n",
            "20 day input [ 0.75424185  0.74589935  0.75311274  0.73109615  0.74345307  0.74903562\n",
            "  0.75712716  0.75468087  0.75411637  0.74596204  0.74219858  0.76007526\n",
            "  0.76684962  0.77757571  0.79143797  0.79457425  0.79595421  0.79099895\n",
            "  0.7906853   0.79495068  0.79200258  0.81533644  0.79796147  0.79269256\n",
            "  0.79934144  0.80856208  0.80523764  0.80724481  0.80197589  0.8042967\n",
            "  0.78616906  0.78585542  0.79915327  0.79921596  0.8054885   0.82110717\n",
            "  0.84858084  0.8653913   0.8683394   0.87078569  0.87411013  0.84193196\n",
            "  0.86344683  0.89518587  0.89186143  0.88552611  0.87348284  0.89531135\n",
            "  0.93206836  0.95653133  0.95326958  0.98394231  0.96067123  0.95182692\n",
            "  0.98300146  0.93884271  0.9318175   0.92309867  0.94342174  0.96004394\n",
            "  0.96405836  0.98946218  0.98293868  0.98350328  0.97610163  0.97214999\n",
            "  1.          0.98551044  0.9555277   0.93721189  0.93827821  0.93840369\n",
            "  0.95653133  0.95935395  0.93840369  0.94392355  0.92341231  0.90101929\n",
            "  0.89023051  0.87705823  0.66928667  0.60054773  0.49735802  0.37924439\n",
            "  0.26159406  0.15452577  0.06336754 -0.01019942 -0.06666896 -0.10764458\n",
            " -0.13534275 -0.15230976 -0.16113459 -0.164203   -0.16356708 -0.16091388\n",
            " -0.15757498 -0.15454233 -0.15248361 -0.15176746]\n",
            "20 day output [[-0.15250419]]\n",
            "21 day input [ 0.74589935  0.75311274  0.73109615  0.74345307  0.74903562  0.75712716\n",
            "  0.75468087  0.75411637  0.74596204  0.74219858  0.76007526  0.76684962\n",
            "  0.77757571  0.79143797  0.79457425  0.79595421  0.79099895  0.7906853\n",
            "  0.79495068  0.79200258  0.81533644  0.79796147  0.79269256  0.79934144\n",
            "  0.80856208  0.80523764  0.80724481  0.80197589  0.8042967   0.78616906\n",
            "  0.78585542  0.79915327  0.79921596  0.8054885   0.82110717  0.84858084\n",
            "  0.8653913   0.8683394   0.87078569  0.87411013  0.84193196  0.86344683\n",
            "  0.89518587  0.89186143  0.88552611  0.87348284  0.89531135  0.93206836\n",
            "  0.95653133  0.95326958  0.98394231  0.96067123  0.95182692  0.98300146\n",
            "  0.93884271  0.9318175   0.92309867  0.94342174  0.96004394  0.96405836\n",
            "  0.98946218  0.98293868  0.98350328  0.97610163  0.97214999  1.\n",
            "  0.98551044  0.9555277   0.93721189  0.93827821  0.93840369  0.95653133\n",
            "  0.95935395  0.93840369  0.94392355  0.92341231  0.90101929  0.89023051\n",
            "  0.87705823  0.66928667  0.60054773  0.49735802  0.37924439  0.26159406\n",
            "  0.15452577  0.06336754 -0.01019942 -0.06666896 -0.10764458 -0.13534275\n",
            " -0.15230976 -0.16113459 -0.164203   -0.16356708 -0.16091388 -0.15757498\n",
            " -0.15454233 -0.15248361 -0.15176746 -0.15250419]\n",
            "21 day output [[-0.15459932]]\n",
            "22 day input [ 0.75311274  0.73109615  0.74345307  0.74903562  0.75712716  0.75468087\n",
            "  0.75411637  0.74596204  0.74219858  0.76007526  0.76684962  0.77757571\n",
            "  0.79143797  0.79457425  0.79595421  0.79099895  0.7906853   0.79495068\n",
            "  0.79200258  0.81533644  0.79796147  0.79269256  0.79934144  0.80856208\n",
            "  0.80523764  0.80724481  0.80197589  0.8042967   0.78616906  0.78585542\n",
            "  0.79915327  0.79921596  0.8054885   0.82110717  0.84858084  0.8653913\n",
            "  0.8683394   0.87078569  0.87411013  0.84193196  0.86344683  0.89518587\n",
            "  0.89186143  0.88552611  0.87348284  0.89531135  0.93206836  0.95653133\n",
            "  0.95326958  0.98394231  0.96067123  0.95182692  0.98300146  0.93884271\n",
            "  0.9318175   0.92309867  0.94342174  0.96004394  0.96405836  0.98946218\n",
            "  0.98293868  0.98350328  0.97610163  0.97214999  1.          0.98551044\n",
            "  0.9555277   0.93721189  0.93827821  0.93840369  0.95653133  0.95935395\n",
            "  0.93840369  0.94392355  0.92341231  0.90101929  0.89023051  0.87705823\n",
            "  0.66928667  0.60054773  0.49735802  0.37924439  0.26159406  0.15452577\n",
            "  0.06336754 -0.01019942 -0.06666896 -0.10764458 -0.13534275 -0.15230976\n",
            " -0.16113459 -0.164203   -0.16356708 -0.16091388 -0.15757498 -0.15454233\n",
            " -0.15248361 -0.15176746 -0.15250419 -0.15459932]\n",
            "22 day output [[-0.15781395]]\n",
            "23 day input [ 0.73109615  0.74345307  0.74903562  0.75712716  0.75468087  0.75411637\n",
            "  0.74596204  0.74219858  0.76007526  0.76684962  0.77757571  0.79143797\n",
            "  0.79457425  0.79595421  0.79099895  0.7906853   0.79495068  0.79200258\n",
            "  0.81533644  0.79796147  0.79269256  0.79934144  0.80856208  0.80523764\n",
            "  0.80724481  0.80197589  0.8042967   0.78616906  0.78585542  0.79915327\n",
            "  0.79921596  0.8054885   0.82110717  0.84858084  0.8653913   0.8683394\n",
            "  0.87078569  0.87411013  0.84193196  0.86344683  0.89518587  0.89186143\n",
            "  0.88552611  0.87348284  0.89531135  0.93206836  0.95653133  0.95326958\n",
            "  0.98394231  0.96067123  0.95182692  0.98300146  0.93884271  0.9318175\n",
            "  0.92309867  0.94342174  0.96004394  0.96405836  0.98946218  0.98293868\n",
            "  0.98350328  0.97610163  0.97214999  1.          0.98551044  0.9555277\n",
            "  0.93721189  0.93827821  0.93840369  0.95653133  0.95935395  0.93840369\n",
            "  0.94392355  0.92341231  0.90101929  0.89023051  0.87705823  0.66928667\n",
            "  0.60054773  0.49735802  0.37924439  0.26159406  0.15452577  0.06336754\n",
            " -0.01019942 -0.06666896 -0.10764458 -0.13534275 -0.15230976 -0.16113459\n",
            " -0.164203   -0.16356708 -0.16091388 -0.15757498 -0.15454233 -0.15248361\n",
            " -0.15176746 -0.15250419 -0.15459932 -0.15781395]\n",
            "23 day output [[-0.1618237]]\n",
            "24 day input [ 0.74345307  0.74903562  0.75712716  0.75468087  0.75411637  0.74596204\n",
            "  0.74219858  0.76007526  0.76684962  0.77757571  0.79143797  0.79457425\n",
            "  0.79595421  0.79099895  0.7906853   0.79495068  0.79200258  0.81533644\n",
            "  0.79796147  0.79269256  0.79934144  0.80856208  0.80523764  0.80724481\n",
            "  0.80197589  0.8042967   0.78616906  0.78585542  0.79915327  0.79921596\n",
            "  0.8054885   0.82110717  0.84858084  0.8653913   0.8683394   0.87078569\n",
            "  0.87411013  0.84193196  0.86344683  0.89518587  0.89186143  0.88552611\n",
            "  0.87348284  0.89531135  0.93206836  0.95653133  0.95326958  0.98394231\n",
            "  0.96067123  0.95182692  0.98300146  0.93884271  0.9318175   0.92309867\n",
            "  0.94342174  0.96004394  0.96405836  0.98946218  0.98293868  0.98350328\n",
            "  0.97610163  0.97214999  1.          0.98551044  0.9555277   0.93721189\n",
            "  0.93827821  0.93840369  0.95653133  0.95935395  0.93840369  0.94392355\n",
            "  0.92341231  0.90101929  0.89023051  0.87705823  0.66928667  0.60054773\n",
            "  0.49735802  0.37924439  0.26159406  0.15452577  0.06336754 -0.01019942\n",
            " -0.06666896 -0.10764458 -0.13534275 -0.15230976 -0.16113459 -0.164203\n",
            " -0.16356708 -0.16091388 -0.15757498 -0.15454233 -0.15248361 -0.15176746\n",
            " -0.15250419 -0.15459932 -0.15781395 -0.1618237 ]\n",
            "24 day output [[-0.16627117]]\n",
            "25 day input [ 0.74903562  0.75712716  0.75468087  0.75411637  0.74596204  0.74219858\n",
            "  0.76007526  0.76684962  0.77757571  0.79143797  0.79457425  0.79595421\n",
            "  0.79099895  0.7906853   0.79495068  0.79200258  0.81533644  0.79796147\n",
            "  0.79269256  0.79934144  0.80856208  0.80523764  0.80724481  0.80197589\n",
            "  0.8042967   0.78616906  0.78585542  0.79915327  0.79921596  0.8054885\n",
            "  0.82110717  0.84858084  0.8653913   0.8683394   0.87078569  0.87411013\n",
            "  0.84193196  0.86344683  0.89518587  0.89186143  0.88552611  0.87348284\n",
            "  0.89531135  0.93206836  0.95653133  0.95326958  0.98394231  0.96067123\n",
            "  0.95182692  0.98300146  0.93884271  0.9318175   0.92309867  0.94342174\n",
            "  0.96004394  0.96405836  0.98946218  0.98293868  0.98350328  0.97610163\n",
            "  0.97214999  1.          0.98551044  0.9555277   0.93721189  0.93827821\n",
            "  0.93840369  0.95653133  0.95935395  0.93840369  0.94392355  0.92341231\n",
            "  0.90101929  0.89023051  0.87705823  0.66928667  0.60054773  0.49735802\n",
            "  0.37924439  0.26159406  0.15452577  0.06336754 -0.01019942 -0.06666896\n",
            " -0.10764458 -0.13534275 -0.15230976 -0.16113459 -0.164203   -0.16356708\n",
            " -0.16091388 -0.15757498 -0.15454233 -0.15248361 -0.15176746 -0.15250419\n",
            " -0.15459932 -0.15781395 -0.1618237  -0.16627117]\n",
            "25 day output [[-0.17080882]]\n",
            "26 day input [ 0.75712716  0.75468087  0.75411637  0.74596204  0.74219858  0.76007526\n",
            "  0.76684962  0.77757571  0.79143797  0.79457425  0.79595421  0.79099895\n",
            "  0.7906853   0.79495068  0.79200258  0.81533644  0.79796147  0.79269256\n",
            "  0.79934144  0.80856208  0.80523764  0.80724481  0.80197589  0.8042967\n",
            "  0.78616906  0.78585542  0.79915327  0.79921596  0.8054885   0.82110717\n",
            "  0.84858084  0.8653913   0.8683394   0.87078569  0.87411013  0.84193196\n",
            "  0.86344683  0.89518587  0.89186143  0.88552611  0.87348284  0.89531135\n",
            "  0.93206836  0.95653133  0.95326958  0.98394231  0.96067123  0.95182692\n",
            "  0.98300146  0.93884271  0.9318175   0.92309867  0.94342174  0.96004394\n",
            "  0.96405836  0.98946218  0.98293868  0.98350328  0.97610163  0.97214999\n",
            "  1.          0.98551044  0.9555277   0.93721189  0.93827821  0.93840369\n",
            "  0.95653133  0.95935395  0.93840369  0.94392355  0.92341231  0.90101929\n",
            "  0.89023051  0.87705823  0.66928667  0.60054773  0.49735802  0.37924439\n",
            "  0.26159406  0.15452577  0.06336754 -0.01019942 -0.06666896 -0.10764458\n",
            " -0.13534275 -0.15230976 -0.16113459 -0.164203   -0.16356708 -0.16091388\n",
            " -0.15757498 -0.15454233 -0.15248361 -0.15176746 -0.15250419 -0.15459932\n",
            " -0.15781395 -0.1618237  -0.16627117 -0.17080882]\n",
            "26 day output [[-0.17513116]]\n",
            "27 day input [ 0.75468087  0.75411637  0.74596204  0.74219858  0.76007526  0.76684962\n",
            "  0.77757571  0.79143797  0.79457425  0.79595421  0.79099895  0.7906853\n",
            "  0.79495068  0.79200258  0.81533644  0.79796147  0.79269256  0.79934144\n",
            "  0.80856208  0.80523764  0.80724481  0.80197589  0.8042967   0.78616906\n",
            "  0.78585542  0.79915327  0.79921596  0.8054885   0.82110717  0.84858084\n",
            "  0.8653913   0.8683394   0.87078569  0.87411013  0.84193196  0.86344683\n",
            "  0.89518587  0.89186143  0.88552611  0.87348284  0.89531135  0.93206836\n",
            "  0.95653133  0.95326958  0.98394231  0.96067123  0.95182692  0.98300146\n",
            "  0.93884271  0.9318175   0.92309867  0.94342174  0.96004394  0.96405836\n",
            "  0.98946218  0.98293868  0.98350328  0.97610163  0.97214999  1.\n",
            "  0.98551044  0.9555277   0.93721189  0.93827821  0.93840369  0.95653133\n",
            "  0.95935395  0.93840369  0.94392355  0.92341231  0.90101929  0.89023051\n",
            "  0.87705823  0.66928667  0.60054773  0.49735802  0.37924439  0.26159406\n",
            "  0.15452577  0.06336754 -0.01019942 -0.06666896 -0.10764458 -0.13534275\n",
            " -0.15230976 -0.16113459 -0.164203   -0.16356708 -0.16091388 -0.15757498\n",
            " -0.15454233 -0.15248361 -0.15176746 -0.15250419 -0.15459932 -0.15781395\n",
            " -0.1618237  -0.16627117 -0.17080882 -0.17513116]\n",
            "27 day output [[-0.17899536]]\n",
            "28 day input [ 0.75411637  0.74596204  0.74219858  0.76007526  0.76684962  0.77757571\n",
            "  0.79143797  0.79457425  0.79595421  0.79099895  0.7906853   0.79495068\n",
            "  0.79200258  0.81533644  0.79796147  0.79269256  0.79934144  0.80856208\n",
            "  0.80523764  0.80724481  0.80197589  0.8042967   0.78616906  0.78585542\n",
            "  0.79915327  0.79921596  0.8054885   0.82110717  0.84858084  0.8653913\n",
            "  0.8683394   0.87078569  0.87411013  0.84193196  0.86344683  0.89518587\n",
            "  0.89186143  0.88552611  0.87348284  0.89531135  0.93206836  0.95653133\n",
            "  0.95326958  0.98394231  0.96067123  0.95182692  0.98300146  0.93884271\n",
            "  0.9318175   0.92309867  0.94342174  0.96004394  0.96405836  0.98946218\n",
            "  0.98293868  0.98350328  0.97610163  0.97214999  1.          0.98551044\n",
            "  0.9555277   0.93721189  0.93827821  0.93840369  0.95653133  0.95935395\n",
            "  0.93840369  0.94392355  0.92341231  0.90101929  0.89023051  0.87705823\n",
            "  0.66928667  0.60054773  0.49735802  0.37924439  0.26159406  0.15452577\n",
            "  0.06336754 -0.01019942 -0.06666896 -0.10764458 -0.13534275 -0.15230976\n",
            " -0.16113459 -0.164203   -0.16356708 -0.16091388 -0.15757498 -0.15454233\n",
            " -0.15248361 -0.15176746 -0.15250419 -0.15459932 -0.15781395 -0.1618237\n",
            " -0.16627117 -0.17080882 -0.17513116 -0.17899536]\n",
            "28 day output [[-0.18223114]]\n",
            "29 day input [ 0.74596204  0.74219858  0.76007526  0.76684962  0.77757571  0.79143797\n",
            "  0.79457425  0.79595421  0.79099895  0.7906853   0.79495068  0.79200258\n",
            "  0.81533644  0.79796147  0.79269256  0.79934144  0.80856208  0.80523764\n",
            "  0.80724481  0.80197589  0.8042967   0.78616906  0.78585542  0.79915327\n",
            "  0.79921596  0.8054885   0.82110717  0.84858084  0.8653913   0.8683394\n",
            "  0.87078569  0.87411013  0.84193196  0.86344683  0.89518587  0.89186143\n",
            "  0.88552611  0.87348284  0.89531135  0.93206836  0.95653133  0.95326958\n",
            "  0.98394231  0.96067123  0.95182692  0.98300146  0.93884271  0.9318175\n",
            "  0.92309867  0.94342174  0.96004394  0.96405836  0.98946218  0.98293868\n",
            "  0.98350328  0.97610163  0.97214999  1.          0.98551044  0.9555277\n",
            "  0.93721189  0.93827821  0.93840369  0.95653133  0.95935395  0.93840369\n",
            "  0.94392355  0.92341231  0.90101929  0.89023051  0.87705823  0.66928667\n",
            "  0.60054773  0.49735802  0.37924439  0.26159406  0.15452577  0.06336754\n",
            " -0.01019942 -0.06666896 -0.10764458 -0.13534275 -0.15230976 -0.16113459\n",
            " -0.164203   -0.16356708 -0.16091388 -0.15757498 -0.15454233 -0.15248361\n",
            " -0.15176746 -0.15250419 -0.15459932 -0.15781395 -0.1618237  -0.16627117\n",
            " -0.17080882 -0.17513116 -0.17899536 -0.18223114]\n",
            "29 day output [[-0.18474121]]\n",
            "[[0.6692866683006287], [0.600547730922699], [0.4973580241203308], [0.3792443871498108], [0.2615940570831299], [0.1545257717370987], [0.06336753815412521], [-0.010199422016739845], [-0.06666895747184753], [-0.10764458030462265], [-0.13534274697303772], [-0.15230976045131683], [-0.16113458573818207], [-0.1642030030488968], [-0.16356708109378815], [-0.16091388463974], [-0.15757498145103455], [-0.15454232692718506], [-0.15248361229896545], [-0.15176746249198914], [-0.15250419080257416], [-0.15459932386875153], [-0.15781395137310028], [-0.16182370483875275], [-0.1662711650133133], [-0.1708088219165802], [-0.175131157040596], [-0.17899535596370697], [-0.182231143116951], [-0.18474121391773224]]\n"
          ]
        }
      ]
    },
    {
      "cell_type": "code",
      "source": [],
      "metadata": {
        "id": "FLGanG0iT_sw"
      },
      "execution_count": null,
      "outputs": []
    }
  ]
}